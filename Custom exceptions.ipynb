{
 "cells": [
  {
   "cell_type": "markdown",
   "metadata": {},
   "source": [
    "In Python, users can define such exceptions by creating a new class. \n",
    "\n",
    "This exception class has to be derived, either directly or indirectly, from Exception class. \n",
    "\n",
    "Most of the built-in exceptions are also derived form this class."
   ]
  },
  {
   "cell_type": "code",
   "execution_count": 2,
   "metadata": {},
   "outputs": [
    {
     "ename": "CustomError",
     "evalue": "Whoo",
     "output_type": "error",
     "traceback": [
      "\u001b[1;31m---------------------------------------------------------------------------\u001b[0m",
      "\u001b[1;31mCustomError\u001b[0m                               Traceback (most recent call last)",
      "\u001b[1;32m<ipython-input-2-d9722cd72555>\u001b[0m in \u001b[0;36m<module>\u001b[1;34m\u001b[0m\n\u001b[0;32m      2\u001b[0m     \u001b[1;32mpass\u001b[0m\u001b[1;33m\u001b[0m\u001b[1;33m\u001b[0m\u001b[0m\n\u001b[0;32m      3\u001b[0m \u001b[1;33m\u001b[0m\u001b[0m\n\u001b[1;32m----> 4\u001b[1;33m \u001b[1;32mraise\u001b[0m \u001b[0mCustomError\u001b[0m\u001b[1;33m(\u001b[0m\u001b[1;34m'Whoo'\u001b[0m\u001b[1;33m)\u001b[0m\u001b[1;33m\u001b[0m\u001b[1;33m\u001b[0m\u001b[0m\n\u001b[0m",
      "\u001b[1;31mCustomError\u001b[0m: Whoo"
     ]
    }
   ],
   "source": [
    "class CustomError(Exception):\n",
    "    pass\n",
    "\n",
    "raise CustomError('Whoo')"
   ]
  },
  {
   "cell_type": "markdown",
   "metadata": {},
   "source": [
    "When we are developing a large Python program, it is a good practice to place all the user-defined exceptions that our program raises in a separate file. \n",
    "\n",
    "Many standard modules do this. They define their exceptions separately as exceptions.py or errors.py (generally but not always).\n",
    "\n",
    "User-defined exception class can implement everything a normal class can do, but we generally make them simple and concise. \n",
    "\n",
    "Most implementations declare a custom base class and derive others exception classes from this base class."
   ]
  },
  {
   "cell_type": "code",
   "execution_count": 6,
   "metadata": {},
   "outputs": [
    {
     "name": "stdout",
     "output_type": "stream",
     "text": [
      "Enter a number: 10\n",
      "Well...\n"
     ]
    }
   ],
   "source": [
    "# define Python user-defined exceptions\n",
    "class Error(Exception):\n",
    "   \"\"\"Base class for other exceptions\"\"\"\n",
    "   pass\n",
    "class ValueTooSmallError(Error):\n",
    "   \"\"\"Raised when the input value is too small\"\"\"\n",
    "   pass\n",
    "class ValueTooLargeError(Error):\n",
    "   \"\"\"Raised when the input value is too large\"\"\"\n",
    "   pass\n",
    "\n",
    "number = 10\n",
    "while True:\n",
    "   try:\n",
    "       i_num = int(input(\"Enter a number: \"))\n",
    "       if i_num < number:\n",
    "           raise ValueTooSmallError(\"It's bigger!\")\n",
    "       elif i_num > number:\n",
    "           raise ValueTooLargeError(\"It's smaller!\")\n",
    "       break\n",
    "   finally:\n",
    "        print('Well...')"
   ]
  }
 ],
 "metadata": {
  "kernelspec": {
   "display_name": "Python 3",
   "language": "python",
   "name": "python3"
  },
  "language_info": {
   "codemirror_mode": {
    "name": "ipython",
    "version": 3
   },
   "file_extension": ".py",
   "mimetype": "text/x-python",
   "name": "python",
   "nbconvert_exporter": "python",
   "pygments_lexer": "ipython3",
   "version": "3.7.4"
  }
 },
 "nbformat": 4,
 "nbformat_minor": 2
}
