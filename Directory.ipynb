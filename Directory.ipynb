{
 "cells": [
  {
   "cell_type": "markdown",
   "metadata": {},
   "source": [
    "Python has the _os_ module, which provides us with many useful methods to work with directories (and files as well)."
   ]
  },
  {
   "cell_type": "code",
   "execution_count": 2,
   "metadata": {},
   "outputs": [],
   "source": [
    "import os"
   ]
  },
  {
   "cell_type": "markdown",
   "metadata": {},
   "source": [
    "# Getting current directory"
   ]
  },
  {
   "cell_type": "raw",
   "metadata": {},
   "source": [
    "We can get the present working directory using the getcwd() method."
   ]
  },
  {
   "cell_type": "code",
   "execution_count": 3,
   "metadata": {},
   "outputs": [
    {
     "data": {
      "text/plain": [
       "'D:\\\\course\\\\study'"
      ]
     },
     "execution_count": 3,
     "metadata": {},
     "output_type": "execute_result"
    }
   ],
   "source": [
    "os.getcwd()"
   ]
  },
  {
   "cell_type": "raw",
   "metadata": {},
   "source": [
    "We can also use the getcwdb() method to get it as bytes object."
   ]
  },
  {
   "cell_type": "code",
   "execution_count": 4,
   "metadata": {},
   "outputs": [
    {
     "name": "stderr",
     "output_type": "stream",
     "text": [
      "C:\\Users\\bac03\\Anaconda3\\lib\\site-packages\\ipykernel_launcher.py:1: DeprecationWarning: The Windows bytes API has been deprecated, use Unicode filenames instead\n",
      "  \"\"\"Entry point for launching an IPython kernel.\n"
     ]
    },
    {
     "data": {
      "text/plain": [
       "b'D:\\\\course\\\\study'"
      ]
     },
     "execution_count": 4,
     "metadata": {},
     "output_type": "execute_result"
    }
   ],
   "source": [
    "os.getcwdb()"
   ]
  },
  {
   "cell_type": "markdown",
   "metadata": {},
   "source": [
    "# Changing directory"
   ]
  },
  {
   "cell_type": "raw",
   "metadata": {},
   "source": [
    "We can change the current working directory using the chdir() method."
   ]
  },
  {
   "cell_type": "code",
   "execution_count": null,
   "metadata": {},
   "outputs": [],
   "source": [
    "# os.chdir()"
   ]
  },
  {
   "cell_type": "markdown",
   "metadata": {},
   "source": [
    "# Listing directories and files"
   ]
  },
  {
   "cell_type": "raw",
   "metadata": {},
   "source": [
    "All files and sub directories inside a directory can be known using the listdir() method.\n",
    "\n",
    "This method takes in a path and returns a list of sub directories and files in that path. If no path is specified, it returns from the current working directory."
   ]
  },
  {
   "cell_type": "code",
   "execution_count": 5,
   "metadata": {},
   "outputs": [
    {
     "data": {
      "text/plain": [
       "['.ipynb_checkpoints',\n",
       " 'Built-in functions.ipynb',\n",
       " 'Dictionaries.ipynb',\n",
       " 'Directory.ipynb',\n",
       " 'File operation.ipynb',\n",
       " 'Function arguments.ipynb',\n",
       " 'grokking DL',\n",
       " 'Keywords and Identifiers.ipynb',\n",
       " 'List methods.ipynb',\n",
       " 'Operators.ipynb',\n",
       " 'Packages.ipynb',\n",
       " 'Python numbers.ipynb',\n",
       " 'Sets.ipynb',\n",
       " 'Statements & Comments.ipynb',\n",
       " 'Strings.ipynb',\n",
       " 'Variables.ipynb']"
      ]
     },
     "execution_count": 5,
     "metadata": {},
     "output_type": "execute_result"
    }
   ],
   "source": [
    "os.listdir()"
   ]
  },
  {
   "cell_type": "markdown",
   "metadata": {},
   "source": [
    "# Making a new directory"
   ]
  },
  {
   "cell_type": "raw",
   "metadata": {},
   "source": [
    "We can make a new directory using the mkdir() method.\n",
    "\n",
    "This method takes in the path of the new directory. If the full path is not specified, the new directory is created in the current working directory."
   ]
  },
  {
   "cell_type": "code",
   "execution_count": null,
   "metadata": {},
   "outputs": [],
   "source": [
    "# os.mkdir('test')"
   ]
  },
  {
   "cell_type": "markdown",
   "metadata": {},
   "source": [
    "# Renaming a directory or a file"
   ]
  },
  {
   "cell_type": "raw",
   "metadata": {},
   "source": [
    "The rename() method can rename a directory or a file.\n",
    "\n",
    "The first argument is the old name and the new name must be supplies as the second argument."
   ]
  },
  {
   "cell_type": "code",
   "execution_count": 7,
   "metadata": {},
   "outputs": [],
   "source": [
    "# os.rename('test', 'def')"
   ]
  },
  {
   "cell_type": "markdown",
   "metadata": {},
   "source": [
    "# Removing a directory or a file"
   ]
  },
  {
   "cell_type": "raw",
   "metadata": {},
   "source": [
    "A file can be removed (deleted) using the remove() method.\n",
    "\n",
    "Similarly, the rmdir() method removes an empty directory."
   ]
  },
  {
   "cell_type": "code",
   "execution_count": null,
   "metadata": {},
   "outputs": [],
   "source": [
    "# os.remove()\n",
    "# os.rmdir()"
   ]
  },
  {
   "cell_type": "raw",
   "metadata": {},
   "source": [
    "However, note that rmdir() method can only remove empty directories.\n",
    "\n",
    "In order to remove a non-empty directory we can use the rmtree() method inside the shutil module."
   ]
  },
  {
   "cell_type": "code",
   "execution_count": null,
   "metadata": {},
   "outputs": [],
   "source": [
    "# import shutil\n",
    "# shutil.rmtree('test')"
   ]
  }
 ],
 "metadata": {
  "kernelspec": {
   "display_name": "Python 3",
   "language": "python",
   "name": "python3"
  },
  "language_info": {
   "codemirror_mode": {
    "name": "ipython",
    "version": 3
   },
   "file_extension": ".py",
   "mimetype": "text/x-python",
   "name": "python",
   "nbconvert_exporter": "python",
   "pygments_lexer": "ipython3",
   "version": "3.7.4"
  }
 },
 "nbformat": 4,
 "nbformat_minor": 2
}
