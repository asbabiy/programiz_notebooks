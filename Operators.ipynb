{
 "cells": [
  {
   "cell_type": "markdown",
   "metadata": {},
   "source": [
    "# Bitwise operators"
   ]
  },
  {
   "cell_type": "raw",
   "metadata": {},
   "source": [
    "x = 0000 1010\n",
    "\n",
    "y = 0000 0100"
   ]
  },
  {
   "cell_type": "raw",
   "metadata": {},
   "source": [
    "Bitwise AND &\n",
    "\n",
    "True if both operands are True\n",
    "\n",
    "x & y = 0000 0000"
   ]
  },
  {
   "cell_type": "raw",
   "metadata": {},
   "source": [
    "Bitwise OR |\n",
    "\n",
    "True if one of operands is True\n",
    "\n",
    "x | y = 0000 1110"
   ]
  },
  {
   "cell_type": "raw",
   "metadata": {},
   "source": [
    "Bitwise NOT ~\n",
    "\n",
    "Inverts operand's value\n",
    "\n",
    "~ x = 1111 0101"
   ]
  },
  {
   "cell_type": "raw",
   "metadata": {},
   "source": [
    "Bitwise XOR ^\n",
    "\n",
    "True if operands differ\n",
    "\n",
    "x ^ y = 0000 1110"
   ]
  },
  {
   "cell_type": "raw",
   "metadata": {},
   "source": [
    "Bitwise right shift >>\n",
    "\n",
    "Shifts right by the number of bits after >>\n",
    "\n",
    "y >> 2 = 0000 0001"
   ]
  },
  {
   "cell_type": "raw",
   "metadata": {},
   "source": [
    "Bitwise left shift <<\n",
    "\n",
    "Shifts left by the number of bits after <<\n",
    "\n",
    "y << 2 = 0001 0000"
   ]
  },
  {
   "cell_type": "markdown",
   "metadata": {},
   "source": [
    "# Assignment operators"
   ]
  },
  {
   "cell_type": "raw",
   "metadata": {},
   "source": [
    "&=\n",
    "\n",
    "x &= y is equal to x = x & y"
   ]
  },
  {
   "cell_type": "raw",
   "metadata": {},
   "source": [
    "|=\n",
    "\n",
    "x |= y is equal to x = x | y"
   ]
  },
  {
   "cell_type": "raw",
   "metadata": {},
   "source": [
    "^= \n",
    "\n",
    "x ^= y is equal to x = x ^ y"
   ]
  },
  {
   "cell_type": "raw",
   "metadata": {},
   "source": [
    ">>= \n",
    "\n",
    "x >>= y is equal to x = x >> y"
   ]
  },
  {
   "cell_type": "raw",
   "metadata": {},
   "source": [
    "<<= \n",
    "\n",
    "x <<= y is equal to x = x << y"
   ]
  },
  {
   "cell_type": "markdown",
   "metadata": {},
   "source": [
    "# Identity operators"
   ]
  },
  {
   "cell_type": "raw",
   "metadata": {},
   "source": [
    "is and is not are the identity operators in Python. \n",
    "\n",
    "They are used to check if two values (or variables) are located on the same part of the memory. \n",
    "\n",
    "Two variables that are equal does not imply that they are identical."
   ]
  },
  {
   "cell_type": "code",
   "execution_count": 3,
   "metadata": {},
   "outputs": [
    {
     "name": "stdout",
     "output_type": "stream",
     "text": [
      "False\n",
      "True\n",
      "False\n"
     ]
    }
   ],
   "source": [
    "x1 = 5\n",
    "y1 = 5\n",
    "\n",
    "x2 = 'Hello'\n",
    "y2 = 'Hello'\n",
    "\n",
    "x3 = [1,2,3]\n",
    "y3 = [1,2,3]\n",
    "\n",
    "# Output: False\n",
    "print(x1 is not y1)\n",
    "\n",
    "# Output: True\n",
    "print(x2 is y2)\n",
    "\n",
    "# Output: False\n",
    "print(x3 is y3)"
   ]
  },
  {
   "cell_type": "code",
   "execution_count": 13,
   "metadata": {},
   "outputs": [
    {
     "name": "stdout",
     "output_type": "stream",
     "text": [
      "2017556857872 2017556857072\n"
     ]
    }
   ],
   "source": [
    "a = 5.3\n",
    "b = 5.3\n",
    "print(id(a), id(b))"
   ]
  },
  {
   "cell_type": "raw",
   "metadata": {},
   "source": [
    "x1 and y1, x2 and y2 are integers and strings of same values, they are equal and identical.\n",
    "\n",
    "x3 and y3 are lists. They are equal but not identical. Interpreter locates them separately in memory although they are equal."
   ]
  }
 ],
 "metadata": {
  "kernelspec": {
   "display_name": "Python 3",
   "language": "python",
   "name": "python3"
  },
  "language_info": {
   "codemirror_mode": {
    "name": "ipython",
    "version": 3
   },
   "file_extension": ".py",
   "mimetype": "text/x-python",
   "name": "python",
   "nbconvert_exporter": "python",
   "pygments_lexer": "ipython3",
   "version": "3.7.7"
  }
 },
 "nbformat": 4,
 "nbformat_minor": 4
}
