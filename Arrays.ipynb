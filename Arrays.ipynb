{
 "cells": [
  {
   "cell_type": "markdown",
   "metadata": {},
   "source": [
    "Lists are much more flexible than arrays. They can store elements of different data types including string. \n",
    "\n",
    "Also, lists are faster than arrays. And, if you need to do mathematical computation on arrays and matrices, you are much better off using something like NumPy library.\n",
    "\n",
    "UNLESS YOU DON'T REALLY NEED ARRAYS (ARRAY MODULE MAY BE NEEDED TO INTERFACE WITH C CODE), DON'T USE THEM.\n",
    "\n",
    "If you still want to learn a bit about them, here we go."
   ]
  },
  {
   "cell_type": "markdown",
   "metadata": {},
   "source": [
    "---"
   ]
  },
  {
   "cell_type": "markdown",
   "metadata": {},
   "source": [
    "Array of numeric values are supported in Python by the _array_ module.\n",
    "\n",
    "All elements of the array must be of the same numeric type.\n",
    "\n",
    "They are treated the same way as lists."
   ]
  },
  {
   "cell_type": "code",
   "execution_count": 3,
   "metadata": {},
   "outputs": [
    {
     "name": "stdout",
     "output_type": "stream",
     "text": [
      "array('d', [1.1, 3.5, 4.5])\n"
     ]
    }
   ],
   "source": [
    "import array as arr\n",
    "\n",
    "a = arr.array('d', [1.1, 3.5, 4.5])\n",
    "print(a)"
   ]
  },
  {
   "cell_type": "markdown",
   "metadata": {},
   "source": [
    "The letter 'd' is a type code. This determines the type of the array during creation."
   ]
  },
  {
   "cell_type": "markdown",
   "metadata": {},
   "source": [
    "---"
   ]
  },
  {
   "cell_type": "raw",
   "metadata": {},
   "source": [
    "Commonly used type codes:\n",
    "\n",
    "Code\tC Types\t      Python Type\tMin bytes\n",
    "'b'\t  signed char\t      int\t        1\n",
    "'B'\t unsigned char\t      int\t        1\n",
    "'u'\t  Py_UNICODE\t    Unicode\t        2\n",
    "'h'\t signed short         int\t        2\n",
    "'H'\t unsigned short       int\t        2\n",
    "'i'\t  signed int\t      int\t        2\n",
    "'I'\t unsigned int\t      int\t        2\n",
    "'l'\t signed long          int\t        4\n",
    "'L'\t unsigned long\t      int\t        4\n",
    "'f'\t    float\t         float\t        4\n",
    "'d'\t   double\t         float\t        8"
   ]
  }
 ],
 "metadata": {
  "kernelspec": {
   "display_name": "Python 3",
   "language": "python",
   "name": "python3"
  },
  "language_info": {
   "codemirror_mode": {
    "name": "ipython",
    "version": 3
   },
   "file_extension": ".py",
   "mimetype": "text/x-python",
   "name": "python",
   "nbconvert_exporter": "python",
   "pygments_lexer": "ipython3",
   "version": "3.8.5"
  }
 },
 "nbformat": 4,
 "nbformat_minor": 4
}
