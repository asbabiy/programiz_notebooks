{
 "cells": [
  {
   "cell_type": "markdown",
   "metadata": {},
   "source": [
    "# Reading files"
   ]
  },
  {
   "cell_type": "markdown",
   "metadata": {},
   "source": [
    "We can use the read(size) method to read in size number of data. \n",
    "\n",
    "If size parameter is not specified, it reads and returns up to the end of the file."
   ]
  },
  {
   "cell_type": "raw",
   "metadata": {},
   "source": [
    "f.read(4) reads 4 first symbols of the given file."
   ]
  },
  {
   "cell_type": "markdown",
   "metadata": {},
   "source": [
    "We can change our current file cursor (position) using the seek() method. \n",
    "\n",
    "Similarly, the tell() method returns our current position (in number of bytes)."
   ]
  },
  {
   "cell_type": "raw",
   "metadata": {},
   "source": [
    "f.seek(0) brings file cursor to initial position 0\n",
    "f.tell() gets the current cursor position"
   ]
  },
  {
   "cell_type": "markdown",
   "metadata": {},
   "source": [
    "# Some file methods"
   ]
  },
  {
   "cell_type": "markdown",
   "metadata": {},
   "source": [
    "fileno() returns a number that represents the stream, from the operating system's perspective"
   ]
  },
  {
   "cell_type": "markdown",
   "metadata": {},
   "source": [
    "flush() flushes the internal buffer"
   ]
  },
  {
   "cell_type": "markdown",
   "metadata": {},
   "source": [
    "isatty() returns whether the file stream is interactive or not"
   ]
  },
  {
   "cell_type": "markdown",
   "metadata": {},
   "source": [
    "readable() returns whether the file stream can be read or not"
   ]
  },
  {
   "cell_type": "markdown",
   "metadata": {},
   "source": [
    "seekable() returns whether the file allows us to change the file position"
   ]
  },
  {
   "cell_type": "markdown",
   "metadata": {},
   "source": [
    "The truncate() method resizes the file to the given number of bytes. If the size is not specified, the current position will be used."
   ]
  },
  {
   "cell_type": "markdown",
   "metadata": {},
   "source": [
    "writeable()\treturns whether the file can be written to or not"
   ]
  },
  {
   "cell_type": "markdown",
   "metadata": {},
   "source": [
    "writelines() writes a list of strings to the file"
   ]
  }
 ],
 "metadata": {
  "kernelspec": {
   "display_name": "Python 3",
   "language": "python",
   "name": "python3"
  },
  "language_info": {
   "codemirror_mode": {
    "name": "ipython",
    "version": 3
   },
   "file_extension": ".py",
   "mimetype": "text/x-python",
   "name": "python",
   "nbconvert_exporter": "python",
   "pygments_lexer": "ipython3",
   "version": "3.7.7"
  }
 },
 "nbformat": 4,
 "nbformat_minor": 4
}
