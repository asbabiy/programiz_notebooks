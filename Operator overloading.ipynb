{
 "cells": [
  {
   "cell_type": "markdown",
   "metadata": {},
   "source": [
    "To overload the + sign, we will need to implement \\__add__() function in the class. With great power comes great responsibility. We can do whatever we like, inside this function."
   ]
  },
  {
   "cell_type": "code",
   "execution_count": 1,
   "metadata": {},
   "outputs": [],
   "source": [
    "class Point:\n",
    "    def __init__(self, x = 0, y = 0):\n",
    "        self.x = x\n",
    "        self.y = y\n",
    "    \n",
    "    def __str__(self):\n",
    "        return \"({0},{1})\".format(self.x,self.y)\n",
    "    \n",
    "    def __add__(self,other):\n",
    "        x = self.x + other.x\n",
    "        y = self.y + other.y\n",
    "        return Point(x,y)"
   ]
  },
  {
   "cell_type": "code",
   "execution_count": 3,
   "metadata": {},
   "outputs": [
    {
     "name": "stdout",
     "output_type": "stream",
     "text": [
      "(1,5)\n"
     ]
    }
   ],
   "source": [
    "p1 = Point(2,3)\n",
    "p2 = Point(-1,2)\n",
    "print(p1 + p2)"
   ]
  },
  {
   "cell_type": "raw",
   "metadata": {},
   "source": [
    "Operator\t       Expression\t Internally\n",
    "Addition\t        p1 + p2\t   p1.__add__(p2)\n",
    "Subtraction\t        p1 - p2\t   p1.__sub__(p2)\n",
    "Multiplication\t    p1 * p2\t   p1.__mul__(p2)\n",
    "Power\t            p1 ** p2   p1.__pow__(p2)\n",
    "Division\t        p1 / p2\t   p1.__truediv__(p2)\n",
    "Floor Division\t    p1 // p2   p1.__floordiv__(p2)\n",
    "Remainder\t        p1 % p2\t   p1.__mod__(p2)\n",
    "Bitwise Left Shift\tp1 << p2   p1.__lshift__(p2)\n",
    "Bitwise Right Shift\tp1 >> p2   p1.__rshift__(p2)\n",
    "Bitwise AND\t        p1 & p2\t   p1.__and__(p2)\n",
    "Bitwise OR\t        p1 | p2\t   p1.__or__(p2)\n",
    "Bitwise XOR\t        p1 ^ p2\t   p1.__xor__(p2)\n",
    "Bitwise NOT\t        ~p1\t       p1.__invert__()"
   ]
  },
  {
   "cell_type": "raw",
   "metadata": {},
   "source": [
    "Operator\t               Expression\t Internally\n",
    "Less than\t                p1 < p2\t    p1.__lt__(p2)\n",
    "Less than or equal to\t    p1 <= p2\tp1.__le__(p2)\n",
    "Equal to                    p1 == p2\tp1.__eq__(p2)\n",
    "Not equal to\t            p1 != p2\tp1.__ne__(p2)\n",
    "Greater than\t            p1 > p2\t    p1.__gt__(p2)\n",
    "Greater than or equal to\tp1 >= p2\tp1.__ge__(p2)\n"
   ]
  }
 ],
 "metadata": {
  "kernelspec": {
   "display_name": "Python 3",
   "language": "python",
   "name": "python3"
  },
  "language_info": {
   "codemirror_mode": {
    "name": "ipython",
    "version": 3
   },
   "file_extension": ".py",
   "mimetype": "text/x-python",
   "name": "python",
   "nbconvert_exporter": "python",
   "pygments_lexer": "ipython3",
   "version": "3.7.7"
  }
 },
 "nbformat": 4,
 "nbformat_minor": 4
}
