{
 "cells": [
  {
   "cell_type": "markdown",
   "metadata": {},
   "source": [
    "# Creating a dictionary"
   ]
  },
  {
   "cell_type": "markdown",
   "metadata": {},
   "source": [
    "An item has a key and the corresponding value expressed as a pair, key: value.\n",
    "\n",
    "While values can be of any data type and can repeat, keys must be of immutable type (string, number or tuple with immutable elements) and must be unique.\n",
    "\n",
    "We can also create a dictionary using the built-in function dict()."
   ]
  },
  {
   "cell_type": "markdown",
   "metadata": {},
   "source": [
    "# Accessing elements from a dictionary"
   ]
  },
  {
   "cell_type": "markdown",
   "metadata": {},
   "source": [
    "While indexing is used with other container types to access values, dictionary uses keys. Key can be used either inside square brackets or with the get() method.\n",
    "\n",
    "The difference while using get() is that it returns None instead of KeyError, if the key is not found."
   ]
  },
  {
   "cell_type": "code",
   "execution_count": 1,
   "metadata": {
    "pycharm": {
     "is_executing": false
    }
   },
   "outputs": [
    {
     "name": "stdout",
     "text": [
      "1\n",
      "1\n",
      "None\n"
     ],
     "output_type": "stream"
    },
    {
     "traceback": [
      "\u001b[1;31m---------------------------------------------------------------------------\u001b[0m",
      "\u001b[1;31mKeyError\u001b[0m                                  Traceback (most recent call last)",
      "\u001b[1;32m<ipython-input-1-8dae4c9cfb81>\u001b[0m in \u001b[0;36m<module>\u001b[1;34m\u001b[0m\n\u001b[0;32m      5\u001b[0m \u001b[1;33m\u001b[0m\u001b[0m\n\u001b[0;32m      6\u001b[0m \u001b[0mprint\u001b[0m\u001b[1;33m(\u001b[0m\u001b[0mdict\u001b[0m\u001b[1;33m.\u001b[0m\u001b[0mget\u001b[0m\u001b[1;33m(\u001b[0m\u001b[1;34m'g'\u001b[0m\u001b[1;33m)\u001b[0m\u001b[1;33m)\u001b[0m\u001b[1;33m\u001b[0m\u001b[1;33m\u001b[0m\u001b[0m\n\u001b[1;32m----> 7\u001b[1;33m \u001b[0mprint\u001b[0m\u001b[1;33m(\u001b[0m\u001b[0mdict\u001b[0m\u001b[1;33m[\u001b[0m\u001b[1;34m'g'\u001b[0m\u001b[1;33m]\u001b[0m\u001b[1;33m)\u001b[0m  \u001b[1;31m# raises an error\u001b[0m\u001b[1;33m\u001b[0m\u001b[1;33m\u001b[0m\u001b[0m\n\u001b[0m\u001b[0;32m      8\u001b[0m \u001b[1;33m\u001b[0m\u001b[0m\n",
      "\u001b[1;31mKeyError\u001b[0m: 'g'"
     ],
     "ename": "KeyError",
     "evalue": "'g'",
     "output_type": "error"
    }
   ],
   "source": [
    "dict = {'a': 1, (1, 2): 2, 5: 3}\n",
    "\n",
    "print(dict['a'])\n",
    "print(dict.get('a'))\n",
    "\n",
    "print(dict.get('g'))\n",
    "print(dict['g'])  # raises an error"
   ]
  },
  {
   "cell_type": "markdown",
   "metadata": {},
   "source": [
    "# Changing elements and adding new ones"
   ]
  },
  {
   "cell_type": "markdown",
   "metadata": {},
   "source": [
    "When we add new element to our dictionary and the key is already present, value gets updated, else a new key."
   ]
  },
  {
   "cell_type": "code",
   "execution_count": null,
   "metadata": {
    "pycharm": {
     "is_executing": false
    }
   },
   "outputs": [],
   "source": [
    "me = {'Name': 'Alexander', 'Age': 18}\n",
    "\n",
    "me['Name'] = 'Alex'\n",
    "me['Occupation'] = 'Student'\n",
    "\n",
    "print(me)"
   ]
  },
  {
   "cell_type": "markdown",
   "metadata": {},
   "source": [
    "# Removing elements from a dictionary"
   ]
  },
  {
   "cell_type": "markdown",
   "metadata": {},
   "source": [
    "We can remove a particular item in a dictionary by using the method pop(). \n",
    "\n",
    "This method removes as item with the provided key and returns the value."
   ]
  },
  {
   "cell_type": "code",
   "execution_count": null,
   "metadata": {
    "pycharm": {
     "is_executing": false
    }
   },
   "outputs": [],
   "source": [
    "me = {'Name': 'Alexander', 'Age': 18, 'Occupation': 'Student'}\n",
    "\n",
    "age = me.pop('Age')\n",
    "print(me, age, sep=' | ')"
   ]
  },
  {
   "cell_type": "markdown",
   "metadata": {},
   "source": [
    "The method, popitem() can be used to remove and return an arbitrary item (key, value) form the dictionary."
   ]
  },
  {
   "cell_type": "code",
   "execution_count": null,
   "metadata": {
    "pycharm": {
     "is_executing": false
    }
   },
   "outputs": [],
   "source": [
    "me = {'Name': 'Alexander', 'Age': 18, 'Occupation': 'Student'}\n",
    "\n",
    "randinf = me.popitem()\n",
    "print(me, randinf, sep=' | ')"
   ]
  },
  {
   "cell_type": "markdown",
   "metadata": {},
   "source": [
    "All the items can be removed at once using the clear() method."
   ]
  },
  {
   "cell_type": "code",
   "execution_count": null,
   "metadata": {
    "pycharm": {
     "is_executing": false
    }
   },
   "outputs": [],
   "source": [
    "me = {'Name': 'Alexander', 'Age': 18, 'Occupation': 'Student'}\n",
    "\n",
    "me.clear()\n",
    "print(me)"
   ]
  },
  {
   "cell_type": "markdown",
   "metadata": {},
   "source": [
    "We can also use the del keyword to remove individual items or the entire dictionary itself."
   ]
  },
  {
   "cell_type": "code",
   "execution_count": null,
   "metadata": {
    "pycharm": {
     "is_executing": false
    }
   },
   "outputs": [],
   "source": [
    "me = {'Name': 'Alexander', 'Age': 18, 'Occupation': 'Student'}\n",
    "\n",
    "del me['Age']\n",
    "print(me)\n",
    "\n",
    "del me\n",
    "print(me)  # raises an error cause dictionary is deleted"
   ]
  },
  {
   "cell_type": "markdown",
   "metadata": {},
   "source": [
    "# Dictionary methods"
   ]
  },
  {
   "cell_type": "markdown",
   "metadata": {},
   "source": [
    "clear() removes all items from the dictionary"
   ]
  },
  {
   "cell_type": "code",
   "execution_count": null,
   "metadata": {
    "pycharm": {
     "is_executing": false
    }
   },
   "outputs": [],
   "source": [
    "me = {'Name': 'Alexander', 'Age': 18, 'Occupation': 'Student'}\n",
    "\n",
    "me.clear()\n",
    "\n",
    "print(me)"
   ]
  },
  {
   "cell_type": "markdown",
   "metadata": {},
   "source": [
    "copy() returns a shallow copy of the dictionary."
   ]
  },
  {
   "cell_type": "code",
   "execution_count": null,
   "metadata": {
    "pycharm": {
     "is_executing": false
    }
   },
   "outputs": [],
   "source": [
    "me = {'Name': 'Alexander', 'Age': 18, 'Occupation': 'Student'}\n",
    "\n",
    "me1 = me  # If we change something in me, me1 we'll be also changed.\n",
    "\n",
    "me1 = me.copy()  # me1 becomes independent\n",
    "\n",
    "print(me1)"
   ]
  },
  {
   "cell_type": "markdown",
   "metadata": {},
   "source": [
    "The fromkeys() method creates a new dictionary from the given sequence of elements with a value provided by the user.\n",
    "\n",
    "The fromkeys() method takes two parameters:\n",
    "\n",
    "    1) sequence - sequence of elements which is to be used as keys for the new dictionary\n",
    "    2) value (Optional) - value which is set to each element of the dictionary"
   ]
  },
  {
   "cell_type": "code",
   "execution_count": null,
   "metadata": {
    "pycharm": {
     "is_executing": false
    }
   },
   "outputs": [],
   "source": [
    "dts = {0, 1, 2, 3, 4, 5, 6, 7, 8, 9}\n",
    "value = 'Digit'\n",
    "\n",
    "digits = dict.fromkeys(dts, value)\n",
    "\n",
    "print(digits)"
   ]
  },
  {
   "cell_type": "markdown",
   "metadata": {},
   "source": [
    "If the provided value is a mutable object (whose value can be modified) like list, dictionary, etc., when the mutable object is modified, each element of the sequence also gets updated.\n",
    "\n",
    "This is because, each element is assigned a reference to the same object (points to the same object in the memory)."
   ]
  },
  {
   "cell_type": "code",
   "execution_count": null,
   "metadata": {
    "pycharm": {
     "is_executing": false
    }
   },
   "outputs": [],
   "source": [
    "dts = {0, 1, 2, 3, 4, 5, 6, 7, 8, 9}\n",
    "value = [0]\n",
    "\n",
    "digits = dict.fromkeys(dts, value)\n",
    "print(digits)\n",
    "\n",
    "value.append(1)\n",
    "print(digits)"
   ]
  },
  {
   "cell_type": "markdown",
   "metadata": {},
   "source": [
    "The get() method returns the value for the specified key if key is in dictionary.\n",
    "\n",
    "The get() method takes maximum of two parameters:\n",
    "\n",
    "    1) key - key to be searched in the dictionary\n",
    "    2) value (optional) - Value to be returned if the key is not found. The default value is None."
   ]
  },
  {
   "cell_type": "code",
   "execution_count": null,
   "metadata": {
    "pycharm": {
     "is_executing": false
    }
   },
   "outputs": [],
   "source": [
    "me = {'Name': 'Alexander', 'Age': 18, 'Occupation': 'Student'}\n",
    "\n",
    "me.get('Weight', 'Not found')"
   ]
  },
  {
   "cell_type": "markdown",
   "metadata": {},
   "source": [
    "The items() method returns a view object that displays a list of dictionary's (key, value) tuple pairs.\n",
    "\n",
    "The view object items doesn't itself return a list of sales items but it returns a view of sales's (key, value) pair.\n",
    "\n",
    "If the list is updated at any time, the changes are reflected on to the view object itself, as shown in the above program."
   ]
  },
  {
   "cell_type": "code",
   "execution_count": null,
   "metadata": {
    "pycharm": {
     "is_executing": false
    }
   },
   "outputs": [],
   "source": [
    "me = {'Name': 'Alexander', 'Age': 18, 'Occupation': 'Student'}\n",
    "items = me.items()\n",
    "print(items)\n",
    "\n",
    "me['Random'] = 1\n",
    "print(items)"
   ]
  },
  {
   "cell_type": "markdown",
   "metadata": {},
   "source": [
    "The keys() method returns a view object that displays a list of all the keys in the dictionary.\n",
    "\n",
    "When the dictionary is changed, the view object also reflect these changes."
   ]
  },
  {
   "cell_type": "code",
   "execution_count": null,
   "metadata": {
    "pycharm": {
     "is_executing": false
    }
   },
   "outputs": [],
   "source": [
    "me = {'Name': 'Alexander', 'Age': 18, 'Occupation': 'Student'}\n",
    "keys = me.keys()\n",
    "print(keys)\n",
    "\n",
    "me['Random'] = 1\n",
    "print(keys)"
   ]
  },
  {
   "cell_type": "markdown",
   "metadata": {},
   "source": [
    "The pop() method removes an element having the given key and returns its value.\n",
    "\n",
    "The pop() method takes two parameters:\n",
    "\n",
    "    1) key - key which is to be searched for removal\n",
    "    2) default - value which is to be returned when the key is not in the dictionary"
   ]
  },
  {
   "cell_type": "code",
   "execution_count": null,
   "metadata": {
    "pycharm": {
     "is_executing": false
    }
   },
   "outputs": [],
   "source": [
    "me = {'Name': 'Alexander', 'Age': 18, 'Occupation': 'Student'}\n",
    "\n",
    "print(me.pop('Name'))\n",
    "print(me.pop('rand', 'Not found'))\n",
    "print(me.pop('rand'))  # raises an error"
   ]
  },
  {
   "cell_type": "markdown",
   "metadata": {},
   "source": [
    "The popitem() returns and removes an arbitrary element (key, value) pair from the dictionary.\n",
    "\n",
    "The popitem() raises a KeyError error if the dictionary is empty."
   ]
  },
  {
   "cell_type": "code",
   "execution_count": null,
   "metadata": {
    "pycharm": {
     "is_executing": false
    }
   },
   "outputs": [],
   "source": [
    "me = {'Name': 'Alexander', 'Age': 18, 'Occupation': 'Student'}\n",
    "print(me.popitem())"
   ]
  },
  {
   "cell_type": "markdown",
   "metadata": {},
   "source": [
    "The setdefault() method returns the value of a key (if the key is in dictionary). \n",
    "\n",
    "If not, it inserts key with a value to the dictionary.\n",
    "\n",
    "The setdefault() takes maximum of two parameters:\n",
    "\n",
    "    1) key - key to be searched in the dictionary\n",
    "    2) default_value (optional) - key with a value default_value is inserted to the dictionary if key is not in the dictionary.\n",
    "\n",
    "If not provided, the default_value will be None."
   ]
  },
  {
   "cell_type": "code",
   "execution_count": null,
   "metadata": {
    "pycharm": {
     "is_executing": false
    }
   },
   "outputs": [],
   "source": [
    "me = {'Name': 'Alexander', 'Age': 18, 'Occupation': 'Student'}\n",
    "\n",
    "print(me.setdefault('Name'))\n",
    "print(me.setdefault('Weight', 'random'))"
   ]
  },
  {
   "cell_type": "markdown",
   "metadata": {},
   "source": [
    "The update() method updates the dictionary with the elements from the another dictionary object or from an iterable of key/value pairs.\n",
    "\n",
    "The update() method takes either a dictionary or an iterable object of key/value pairs (generally tuples)."
   ]
  },
  {
   "cell_type": "code",
   "execution_count": null,
   "metadata": {
    "pycharm": {
     "is_executing": false
    }
   },
   "outputs": [],
   "source": [
    "a = {1: 'one', 2: 'two'}\n",
    "b = {3: 'three'}\n",
    "\n",
    "a.update(b)\n",
    "print(a)"
   ]
  },
  {
   "cell_type": "markdown",
   "metadata": {},
   "source": [
    "The values() method returns a view object that displays a list of all the values in the dictionary.\n",
    "\n",
    "The view object values doesn't itself return a list of sales item values but it returns a view of all values of the dictionary.\n",
    "\n",
    "If the list is updated at any time, the changes are reflected on to the view object itself, as shown in the above program."
   ]
  },
  {
   "cell_type": "code",
   "execution_count": null,
   "metadata": {
    "pycharm": {
     "is_executing": false
    }
   },
   "outputs": [],
   "source": [
    "me = {'Name': 'Alexander', 'Age': 18, 'Occupation': 'Student'}\n",
    "print(me.values())\n",
    "\n",
    "me['Weight'] = 'random'\n",
    "print(me.values())"
   ]
  },
  {
   "cell_type": "markdown",
   "metadata": {},
   "source": [
    "# Some built-in functions for dictionaries"
   ]
  },
  {
   "cell_type": "markdown",
   "metadata": {},
   "source": [
    "all() returns True if all KEYS are True or if the dictionary is empty."
   ]
  },
  {
   "cell_type": "markdown",
   "metadata": {},
   "source": [
    "any() return True if at least one of the KEYS is True. Return False if the dictionary is empty."
   ]
  },
  {
   "cell_type": "markdown",
   "metadata": {},
   "source": [
    "sorted() returs a new sorted list of keys in the dictionary."
   ]
  },
  {
   "cell_type": "markdown",
   "metadata": {},
   "source": [
    "len() return the number of items in the dictionary."
   ]
  }
 ],
 "metadata": {
  "kernelspec": {
   "display_name": "Python 3",
   "language": "python",
   "name": "python3"
  },
  "language_info": {
   "codemirror_mode": {
    "name": "ipython",
    "version": 3
   },
   "file_extension": ".py",
   "mimetype": "text/x-python",
   "name": "python",
   "nbconvert_exporter": "python",
   "pygments_lexer": "ipython3",
   "version": "3.7.4"
  }
 },
 "nbformat": 4,
 "nbformat_minor": 2
}