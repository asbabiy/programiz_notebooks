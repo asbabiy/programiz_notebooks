{
 "cells": [
  {
   "cell_type": "code",
   "execution_count": 1,
   "metadata": {
    "pycharm": {
     "is_executing": false
    }
   },
   "outputs": [
    {
     "name": "stdout",
     "text": [
      "3\n",
      "[1, 2, 3, 4, 5, 6, 7, 8, 9, 0, [11, 12]]\n",
      "[1, 2, 3, 4, 5, 6, 7, 8, 9, 0, [11, 12], 13, 14, 15]\n",
      "[1, 2, 3, True, 4, 5, 6, 7, 8, 9, 0, [11, 12], 13, 14, 15]\n",
      "[1, 2, 3, True, 4, 5, 6, 7, 9, 0, [11, 12], 13, 14, 15]\n",
      "13\n",
      "[1, 2, 3, True, 4, 5, 6, 7, 9, 0, 14, 15]\n",
      "1\n",
      "[0, 1, True, 2, 3, 4, 5, 6, 7, 9, 14, 15]\n",
      "[15, 14, 9, 7, 6, 5, 4, 3, 2, True, 1, 0]\n",
      "[0, 1, True, 2, 3, 4, 5, 6, 7, 9, 14, 15]\n"
     ],
     "output_type": "stream"
    }
   ],
   "source": [
    "lst = [1, 2, 3, 4, 5, 6, 7, 8, 9, 0]\n",
    "\n",
    "print(lst.index(4))\n",
    "lst.append([11, 12])\n",
    "print(lst)\n",
    "lst.extend([13, 14, 15])\n",
    "print(lst)\n",
    "lst.insert(3, True)\n",
    "print(lst)\n",
    "lst.remove(8)\n",
    "print(lst)\n",
    "x = lst.pop(11)\n",
    "print(x)\n",
    "del lst[10]\n",
    "print(lst)\n",
    "print(lst.count(3))\n",
    "lst.sort()\n",
    "print(lst)\n",
    "lst2 = lst.copy()\n",
    "lst.reverse()\n",
    "print(lst)\n",
    "print(lst2)"
   ]
  },
  {
   "cell_type": "code",
   "execution_count": 2,
   "outputs": [
    {
     "name": "stdout",
     "text": [
      "Hello\u0007, world\n"
     ],
     "output_type": "stream"
    }
   ],
   "source": [
    "print('Hello\\a, world')\n",
    "\n"
   ],
   "metadata": {
    "collapsed": false,
    "pycharm": {
     "name": "#%%\n",
     "is_executing": false
    }
   }
  }
 ],
 "metadata": {
  "kernelspec": {
   "display_name": "Python 3",
   "language": "python",
   "name": "python3"
  },
  "language_info": {
   "codemirror_mode": {
    "name": "ipython",
    "version": 3
   },
   "file_extension": ".py",
   "mimetype": "text/x-python",
   "name": "python",
   "nbconvert_exporter": "python",
   "pygments_lexer": "ipython3",
   "version": "3.7.4"
  },
  "pycharm": {
   "stem_cell": {
    "cell_type": "raw",
    "source": [],
    "metadata": {
     "collapsed": false
    }
   }
  }
 },
 "nbformat": 4,
 "nbformat_minor": 1
}