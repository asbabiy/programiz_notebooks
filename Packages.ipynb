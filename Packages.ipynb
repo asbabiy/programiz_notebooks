{
 "cells": [
  {
   "cell_type": "markdown",
   "metadata": {},
   "source": [
    "# Packages"
   ]
  },
  {
   "cell_type": "raw",
   "metadata": {},
   "source": [
    "Similar files are kept in the same directory, for example, we may keep all the songs in the \"music\" directory. \n",
    "\n",
    "Analogous to this, Python has packages for directories and modules for files."
   ]
  },
  {
   "cell_type": "raw",
   "metadata": {},
   "source": [
    "As our application program grows larger in size with a lot of modules, we place similar modules in one package and different modules in different packages. \n",
    "\n",
    "This makes a project (program) easy to manage and conceptually clear."
   ]
  },
  {
   "cell_type": "raw",
   "metadata": {},
   "source": [
    "A directory must contain a file named __init__.py in order for Python to consider it as a package. \n",
    "\n",
    "This file can be left empty but we generally place the initialization code for that package in this file."
   ]
  },
  {
   "cell_type": "code",
   "execution_count": null,
   "metadata": {},
   "outputs": [],
   "source": [
    "# import Game.Level.start\n",
    "\n",
    "# Game.Level.start.select_difficulty(2)\n",
    "\n",
    "# from Game.Level import start"
   ]
  }
 ],
 "metadata": {
  "kernelspec": {
   "display_name": "Python 3",
   "language": "python",
   "name": "python3"
  },
  "language_info": {
   "codemirror_mode": {
    "name": "ipython",
    "version": 3
   },
   "file_extension": ".py",
   "mimetype": "text/x-python",
   "name": "python",
   "nbconvert_exporter": "python",
   "pygments_lexer": "ipython3",
   "version": "3.7.4"
  }
 },
 "nbformat": 4,
 "nbformat_minor": 2
}
