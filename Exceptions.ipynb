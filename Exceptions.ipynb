{
 "cells": [
  {
   "cell_type": "markdown",
   "metadata": {},
   "source": [
    "# List of all errors"
   ]
  },
  {
   "cell_type": "raw",
   "metadata": {},
   "source": [
    "AssertionError\t        | Raised when assert statement fails.\n",
    "AttributeError\t        | Raised when attribute assignment or reference fails.\n",
    "EOFError\t            | Raised when the input() functions hits end-of-file condition.\n",
    "FloatingPointError\t    | Raised when a floating point operation fails.\n",
    "GeneratorExit\t        | Raise when a generator's close() method is called.\n",
    "ImportError\t            | Raised when the imported module is not found.\n",
    "IndexError\t            | Raised when index of a sequence is out of range.\n",
    "KeyError\t            | Raised when a key is not found in a dictionary.\n",
    "KeyboardInterrupt\t    | Raised when the user hits interrupt key (Ctrl+c or delete).\n",
    "MemoryError\t            | Raised when an operation runs out of memory.\n",
    "NameError\t            | Raised when a variable is not found in local or global scope.\n",
    "NotImplementedError\t    | Raised by abstract methods.\n",
    "OSError\t                | Raised when system operation causes system related error.\n",
    "OverflowError\t        | Raised when result of an arithmetic operation is too large to be represented.\n",
    "ReferenceError\t        | Raised when a weak reference proxy is used to access a garbage collected referent.\n",
    "RuntimeError\t        | Raised when an error does not fall under any other category.\n",
    "StopIteration\t        | Raised by next() function to indicate that there is no further item to be returned by iterator.\n",
    "SyntaxError\t            | Raised by parser when syntax error is encountered.\n",
    "IndentationError\t    | Raised when there is incorrect indentation.\n",
    "TabError\t            | Raised when indentation consists of inconsistent tabs and spaces.\n",
    "SystemError\t            | Raised when interpreter detects internal error.\n",
    "SystemExit\t            | Raised by sys.exit() function.\n",
    "TypeError\t            | Raised when a function or operation is applied to an object of incorrect type.\n",
    "UnboundLocalError\t    | Raised when a reference is made to a local variable in a function or method, but no value has been bound to that variable.\n",
    "UnicodeError\t        | Raised when a Unicode-related encoding or decoding error occurs.\n",
    "UnicodeEncodeError\t    | Raised when a Unicode-related error occurs during encoding.\n",
    "UnicodeDecodeError\t    | Raised when a Unicode-related error occurs during decoding.\n",
    "UnicodeTranslateError\t| Raised when a Unicode-related error occurs during translating.\n",
    "ValueError\t            | Raised when a function gets argument of correct type but improper value.\n",
    "ZeroDivisionError\t    | Raised when second operand of division or modulo operation is zero."
   ]
  }
 ],
 "metadata": {
  "kernelspec": {
   "display_name": "Python 3",
   "language": "python",
   "name": "python3"
  },
  "language_info": {
   "codemirror_mode": {
    "name": "ipython",
    "version": 3
   },
   "file_extension": ".py",
   "mimetype": "text/x-python",
   "name": "python",
   "nbconvert_exporter": "python",
   "pygments_lexer": "ipython3",
   "version": "3.7.4"
  }
 },
 "nbformat": 4,
 "nbformat_minor": 2
}
