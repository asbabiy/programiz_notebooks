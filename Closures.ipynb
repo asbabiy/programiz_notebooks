{
 "cells": [
  {
   "cell_type": "markdown",
   "metadata": {},
   "source": [
    "The criteria that must be met to create closure in Python are summarized in the following points.\n",
    "\n",
    "    1) We must have a nested function (function inside a function).\n",
    "    2) The nested function must refer to a value defined in the enclosing function.\n",
    "    3) The enclosing function must return the nested function."
   ]
  },
  {
   "cell_type": "code",
   "execution_count": 21,
   "metadata": {},
   "outputs": [],
   "source": [
    "def mult(n):\n",
    "    def multiplier(x):\n",
    "        return x * n\n",
    "    return multiplier"
   ]
  },
  {
   "cell_type": "code",
   "execution_count": 14,
   "metadata": {},
   "outputs": [],
   "source": [
    "times3 = mult(3)"
   ]
  },
  {
   "cell_type": "code",
   "execution_count": 23,
   "metadata": {
    "scrolled": true
   },
   "outputs": [
    {
     "name": "stdout",
     "output_type": "stream",
     "text": [
      "1299\n"
     ]
    }
   ],
   "source": [
    "print(times3(433))"
   ]
  },
  {
   "cell_type": "markdown",
   "metadata": {},
   "source": [
    "So what are closures good for?\n",
    "\n",
    "Closures can avoid the use of global values and provides some form of data hiding. It can also provide an object oriented solution to the problem."
   ]
  }
 ],
 "metadata": {
  "kernelspec": {
   "display_name": "Python 3",
   "language": "python",
   "name": "python3"
  },
  "language_info": {
   "codemirror_mode": {
    "name": "ipython",
    "version": 3
   },
   "file_extension": ".py",
   "mimetype": "text/x-python",
   "name": "python",
   "nbconvert_exporter": "python",
   "pygments_lexer": "ipython3",
   "version": "3.7.7"
  }
 },
 "nbformat": 4,
 "nbformat_minor": 4
}
