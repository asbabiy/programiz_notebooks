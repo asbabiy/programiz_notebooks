{
 "cells": [
  {
   "cell_type": "markdown",
   "metadata": {},
   "source": [
    "# Default arguments"
   ]
  },
  {
   "cell_type": "raw",
   "metadata": {},
   "source": [
    "We can provide a default value to an argument by using the assignment operator (=)."
   ]
  },
  {
   "cell_type": "code",
   "execution_count": 5,
   "metadata": {
    "scrolled": true
   },
   "outputs": [
    {
     "name": "stdout",
     "output_type": "stream",
     "text": [
      "Hello, Bruce\n",
      "Fuck you, Bruce\n"
     ]
    }
   ],
   "source": [
    "def greet(person, msg='Hello'):\n",
    "    print(msg + ', ' + person)\n",
    "\n",
    "greet('Bruce')\n",
    "greet('Bruce', 'Fuck you')"
   ]
  },
  {
   "cell_type": "raw",
   "metadata": {},
   "source": [
    "Positional arguments should be before default arguments."
   ]
  },
  {
   "cell_type": "markdown",
   "metadata": {},
   "source": [
    "# Arbitrary arguments"
   ]
  },
  {
   "cell_type": "raw",
   "metadata": {},
   "source": [
    "In the function definition we use an asterisk (*) before the parameter name to denote that we don't know how many times we we'll use the given argument."
   ]
  },
  {
   "cell_type": "code",
   "execution_count": 6,
   "metadata": {},
   "outputs": [
    {
     "name": "stdout",
     "output_type": "stream",
     "text": [
      "Hello, Bruce\n",
      "Hello, John\n",
      "Hello, Adam\n"
     ]
    }
   ],
   "source": [
    "def greet(*person):\n",
    "    for i in person:\n",
    "        print('Hello, ' + i)\n",
    "\n",
    "greet('Bruce', 'John', 'Adam')"
   ]
  }
 ],
 "metadata": {
  "kernelspec": {
   "display_name": "Python 3",
   "language": "python",
   "name": "python3"
  },
  "language_info": {
   "codemirror_mode": {
    "name": "ipython",
    "version": 3
   },
   "file_extension": ".py",
   "mimetype": "text/x-python",
   "name": "python",
   "nbconvert_exporter": "python",
   "pygments_lexer": "ipython3",
   "version": "3.7.4"
  }
 },
 "nbformat": 4,
 "nbformat_minor": 2
}
