{
 "cells": [
  {
   "cell_type": "markdown",
   "metadata": {},
   "source": [
    "# Keywords"
   ]
  },
  {
   "cell_type": "raw",
   "metadata": {},
   "source": [
    "List of all keywords:\n",
    "    False\n",
    "    None\n",
    "    True\n",
    "    and\n",
    "    as\n",
    "    assert\n",
    "    break\n",
    "    class\n",
    "    continue\n",
    "    def\n",
    "    del\n",
    "    elif\n",
    "    else\n",
    "    except\n",
    "    finally\n",
    "    for \n",
    "    from\n",
    "    global\n",
    "    if\n",
    "    import\n",
    "    is\n",
    "    lambda\n",
    "    nonlocal\n",
    "    not\n",
    "    or\n",
    "    pass\n",
    "    raise\n",
    "    return\n",
    "    try\n",
    "    while\n",
    "    with\n",
    "    yield"
   ]
  },
  {
   "cell_type": "markdown",
   "metadata": {},
   "source": [
    "## None"
   ]
  },
  {
   "cell_type": "raw",
   "metadata": {},
   "source": [
    "None is a special constant in Python that represents the absence of a value or a null value.\n",
    "\n",
    "It is an object of its own datatype, the NoneType. \n",
    "\n",
    "We cannot create multiple None objects but can assign it to variables. \n",
    "\n",
    "These variables will be equal to one another.\n",
    "\n",
    "We must take special care that None isn't equal False, 0 or any empty list, dictionary, string etc.\n",
    "\n",
    "Void functions that do not return anything will return a None object automatically. \n",
    "\n",
    "None is also returned by functions in which the program flow does not encounter a return statement."
   ]
  },
  {
   "cell_type": "code",
   "execution_count": 33,
   "metadata": {},
   "outputs": [
    {
     "name": "stdout",
     "output_type": "stream",
     "text": [
      "False\n",
      "False\n",
      "False\n",
      "False\n"
     ]
    }
   ],
   "source": [
    "print(None == 0)\n",
    "\n",
    "print(None == 1)\n",
    "\n",
    "print(None == False)\n",
    "\n",
    "print(None == True)"
   ]
  },
  {
   "cell_type": "code",
   "execution_count": 32,
   "metadata": {},
   "outputs": [
    {
     "name": "stdout",
     "output_type": "stream",
     "text": [
      "None\n"
     ]
    }
   ],
   "source": [
    "def func():\n",
    "    a = 1\n",
    "    b = 2\n",
    "    c = a + b\n",
    "    \n",
    "print(func())"
   ]
  },
  {
   "cell_type": "markdown",
   "metadata": {},
   "source": [
    "## assert"
   ]
  },
  {
   "cell_type": "raw",
   "metadata": {},
   "source": [
    "assert is used for debugging purposes.\n",
    "\n",
    "While programming, sometimes we wish to know the internal state or check if our assumptions are true.\n",
    "\n",
    "assert helps us do this and find bugs more conveniently.\n",
    "\n",
    "assert is followed by a condition."
   ]
  },
  {
   "cell_type": "raw",
   "metadata": {},
   "source": [
    "If the condition is true, nothing happens. \n",
    "\n",
    "But if the condition is false, AssertionError is raised. For example:"
   ]
  },
  {
   "cell_type": "code",
   "execution_count": 41,
   "metadata": {},
   "outputs": [
    {
     "ename": "AssertionError",
     "evalue": "It's not ok",
     "output_type": "error",
     "traceback": [
      "\u001b[1;31m---------------------------------------------------------------------------\u001b[0m",
      "\u001b[1;31mAssertionError\u001b[0m                            Traceback (most recent call last)",
      "\u001b[1;32m<ipython-input-41-a19afd6da0c8>\u001b[0m in \u001b[0;36m<module>\u001b[1;34m\u001b[0m\n\u001b[0;32m      4\u001b[0m \u001b[1;33m\u001b[0m\u001b[0m\n\u001b[0;32m      5\u001b[0m \u001b[1;32massert\u001b[0m \u001b[0mx\u001b[0m \u001b[1;33m<\u001b[0m \u001b[1;36m5\u001b[0m\u001b[1;33m,\u001b[0m \u001b[1;34m\"It's ok\"\u001b[0m\u001b[1;33m\u001b[0m\u001b[1;33m\u001b[0m\u001b[0m\n\u001b[1;32m----> 6\u001b[1;33m \u001b[1;32massert\u001b[0m \u001b[0mx\u001b[0m \u001b[1;33m>\u001b[0m \u001b[1;36m5\u001b[0m\u001b[1;33m,\u001b[0m \u001b[1;34m\"It's not ok\"\u001b[0m\u001b[1;33m\u001b[0m\u001b[1;33m\u001b[0m\u001b[0m\n\u001b[0m",
      "\u001b[1;31mAssertionError\u001b[0m: It's not ok"
     ]
    }
   ],
   "source": [
    "# assert condition, message\n",
    "\n",
    "x = 4\n",
    "\n",
    "assert x < 5, \"It's ok\"\n",
    "assert x > 5, \"It's not ok\""
   ]
  },
  {
   "cell_type": "markdown",
   "metadata": {},
   "source": [
    "## del"
   ]
  },
  {
   "cell_type": "raw",
   "metadata": {},
   "source": [
    "del is used to delete the reference to an object. \n",
    "\n",
    "Everything is object in Python. \n",
    "\n",
    "We can delete a variable reference using del"
   ]
  },
  {
   "cell_type": "code",
   "execution_count": 47,
   "metadata": {
    "scrolled": true
   },
   "outputs": [
    {
     "name": "stdout",
     "output_type": "stream",
     "text": [
      "5\n"
     ]
    },
    {
     "ename": "NameError",
     "evalue": "name 'a' is not defined",
     "output_type": "error",
     "traceback": [
      "\u001b[1;31m---------------------------------------------------------------------------\u001b[0m",
      "\u001b[1;31mNameError\u001b[0m                                 Traceback (most recent call last)",
      "\u001b[1;32m<ipython-input-47-90d84a795646>\u001b[0m in \u001b[0;36m<module>\u001b[1;34m\u001b[0m\n\u001b[0;32m      4\u001b[0m \u001b[1;33m\u001b[0m\u001b[0m\n\u001b[0;32m      5\u001b[0m \u001b[0mprint\u001b[0m\u001b[1;33m(\u001b[0m\u001b[0mb\u001b[0m\u001b[1;33m)\u001b[0m\u001b[1;33m\u001b[0m\u001b[1;33m\u001b[0m\u001b[0m\n\u001b[1;32m----> 6\u001b[1;33m \u001b[0mprint\u001b[0m\u001b[1;33m(\u001b[0m\u001b[0ma\u001b[0m\u001b[1;33m)\u001b[0m\u001b[1;33m\u001b[0m\u001b[1;33m\u001b[0m\u001b[0m\n\u001b[0m",
      "\u001b[1;31mNameError\u001b[0m: name 'a' is not defined"
     ]
    }
   ],
   "source": [
    "a = 5\n",
    "\n",
    "del a\n",
    "print(a)"
   ]
  },
  {
   "cell_type": "raw",
   "metadata": {},
   "source": [
    "del is also used to delete items from a list or a dictionary"
   ]
  },
  {
   "cell_type": "code",
   "execution_count": 49,
   "metadata": {},
   "outputs": [
    {
     "name": "stdout",
     "output_type": "stream",
     "text": [
      "['x', 'z']\n"
     ]
    }
   ],
   "source": [
    "a = ['x','y','z']\n",
    "\n",
    "del a[1]\n",
    "print(a)"
   ]
  },
  {
   "cell_type": "markdown",
   "metadata": {},
   "source": [
    "## except, raise, try"
   ]
  },
  {
   "cell_type": "raw",
   "metadata": {},
   "source": [
    "except, raise, try are used with exceptions in Python.\n",
    "\n",
    "Exceptions are basically errors that suggests something went wrong while executing our program. \n",
    "\n",
    "IOError, ValueError, ZeroDivisionError, ImportError, NameError, TypeError etc. are few examples of exception in Python. \n",
    "\n",
    "try...except blocks are used to catch exceptions in Python."
   ]
  },
  {
   "cell_type": "code",
   "execution_count": 53,
   "metadata": {},
   "outputs": [
    {
     "name": "stdout",
     "output_type": "stream",
     "text": [
      "0.2\n",
      "oh bruh, you shouldn't do this\n"
     ]
    }
   ],
   "source": [
    "def func(num):\n",
    "    try:\n",
    "        return 1 / num\n",
    "    except:\n",
    "        return \"oh bruh, you shouldn't do this\"\n",
    "    \n",
    "print(func(5))\n",
    "print(func(0))"
   ]
  },
  {
   "cell_type": "code",
   "execution_count": 57,
   "metadata": {},
   "outputs": [
    {
     "name": "stdout",
     "output_type": "stream",
     "text": [
      "0\n"
     ]
    },
    {
     "ename": "ZeroDivisionError",
     "evalue": "but... oh shit",
     "output_type": "error",
     "traceback": [
      "\u001b[1;31m---------------------------------------------------------------------------\u001b[0m",
      "\u001b[1;31mZeroDivisionError\u001b[0m                         Traceback (most recent call last)",
      "\u001b[1;32m<ipython-input-57-09bf66410386>\u001b[0m in \u001b[0;36m<module>\u001b[1;34m\u001b[0m\n\u001b[0;32m      4\u001b[0m \u001b[1;33m\u001b[0m\u001b[0m\n\u001b[0;32m      5\u001b[0m \u001b[1;32mif\u001b[0m \u001b[0mx\u001b[0m \u001b[1;33m==\u001b[0m \u001b[1;36m0\u001b[0m\u001b[1;33m:\u001b[0m\u001b[1;33m\u001b[0m\u001b[1;33m\u001b[0m\u001b[0m\n\u001b[1;32m----> 6\u001b[1;33m     \u001b[1;32mraise\u001b[0m \u001b[0mZeroDivisionError\u001b[0m\u001b[1;33m(\u001b[0m\u001b[1;34m'but... oh shit'\u001b[0m\u001b[1;33m)\u001b[0m\u001b[1;33m\u001b[0m\u001b[1;33m\u001b[0m\u001b[0m\n\u001b[0m",
      "\u001b[1;31mZeroDivisionError\u001b[0m: but... oh shit"
     ]
    }
   ],
   "source": [
    "# ok guys, don't write zero here, probs i'll divide by it later\n",
    "\n",
    "x = int(input()) # hehe\n",
    "\n",
    "if x == 0:\n",
    "    raise ZeroDivisionError('but... oh shit')"
   ]
  },
  {
   "cell_type": "markdown",
   "metadata": {},
   "source": [
    "## finally"
   ]
  },
  {
   "cell_type": "raw",
   "metadata": {},
   "source": [
    "finally is used with try…except block to close up resources or file streams.\n",
    "\n",
    "Using finally ensures that the block of code inside it gets executed even if there is an unhandled exception. For example:"
   ]
  },
  {
   "cell_type": "code",
   "execution_count": 65,
   "metadata": {},
   "outputs": [
    {
     "name": "stdout",
     "output_type": "stream",
     "text": [
      "shiiiiit\n",
      "u r a moron\n"
     ]
    }
   ],
   "source": [
    "try:\n",
    "    x = 10 / 0\n",
    "except ZeroDivisionError:\n",
    "    print(\"shiiiiit\")\n",
    "else:\n",
    "    x = 10 + '5'\n",
    "finally:\n",
    "    print('u r a moron')"
   ]
  },
  {
   "cell_type": "markdown",
   "metadata": {},
   "source": [
    "## global"
   ]
  },
  {
   "cell_type": "raw",
   "metadata": {},
   "source": [
    "global is used to declare that a variable inside the function is global (outside the function).\n",
    "\n",
    "If we need to modify the value of a global variable inside a function, then we must declare it with global. \n",
    "\n",
    "Otherwise a local variable with that name is created."
   ]
  },
  {
   "cell_type": "code",
   "execution_count": 1,
   "metadata": {},
   "outputs": [
    {
     "name": "stdout",
     "output_type": "stream",
     "text": [
      "Here we do not declare it as global\n",
      "Initial\n",
      "\n",
      "Here we declare it as global so that we can modify it\n",
      "modified\n",
      "\n"
     ]
    }
   ],
   "source": [
    "variable = 'Initial'\n",
    "\n",
    "def readf():\n",
    "    print(variable + '\\n')\n",
    "\n",
    "def write1():\n",
    "    print('Here we do not declare it as global')\n",
    "    variable = 'modified'\n",
    "\n",
    "def write2():\n",
    "    print('Here we declare it as global so that we can modify it')\n",
    "    global variable\n",
    "    variable = 'modified'\n",
    "\n",
    "write1()\n",
    "readf()\n",
    "write2()\n",
    "readf()"
   ]
  },
  {
   "cell_type": "markdown",
   "metadata": {},
   "source": [
    "## is"
   ]
  },
  {
   "cell_type": "raw",
   "metadata": {},
   "source": [
    "is is used in Python for testing object identity. \n",
    "\n",
    "The == operator is used to test if two variables are equal or not. \n",
    "\n",
    "is is used to test if the two variables refer to the same object."
   ]
  },
  {
   "cell_type": "code",
   "execution_count": 75,
   "metadata": {},
   "outputs": [
    {
     "name": "stdout",
     "output_type": "stream",
     "text": [
      "True\n"
     ]
    }
   ],
   "source": [
    "print([] == [])"
   ]
  },
  {
   "cell_type": "raw",
   "metadata": {},
   "source": [
    "But look here, they are not identical objects because they are located in memory separately. And everything is an object in Python, don't forget this."
   ]
  },
  {
   "cell_type": "code",
   "execution_count": 76,
   "metadata": {},
   "outputs": [
    {
     "name": "stdout",
     "output_type": "stream",
     "text": [
      "False\n"
     ]
    }
   ],
   "source": [
    "print([] is [])"
   ]
  },
  {
   "cell_type": "raw",
   "metadata": {},
   "source": [
    "There is only one True, False and None in the \"Python Universe\", so they're gonna be equal, let's prove it."
   ]
  },
  {
   "cell_type": "code",
   "execution_count": 78,
   "metadata": {},
   "outputs": [
    {
     "name": "stdout",
     "output_type": "stream",
     "text": [
      "True\n",
      "True\n",
      "True\n"
     ]
    }
   ],
   "source": [
    "print(None is None)\n",
    "print(True is True)\n",
    "print(False is False)"
   ]
  },
  {
   "cell_type": "markdown",
   "metadata": {},
   "source": [
    "## lambda"
   ]
  },
  {
   "cell_type": "raw",
   "metadata": {},
   "source": [
    "lambda is used to create an anonymous function (function with no name).\n",
    "\n",
    "It is an inline function that does not contain a return statement. \n",
    "\n",
    "It consists of an expression that is evaluated and returned."
   ]
  },
  {
   "cell_type": "code",
   "execution_count": 81,
   "metadata": {},
   "outputs": [
    {
     "name": "stdout",
     "output_type": "stream",
     "text": [
      "2\n",
      "4\n",
      "6\n",
      "8\n",
      "10\n"
     ]
    }
   ],
   "source": [
    "a = lambda x: x*2\n",
    "for i in range(1,6):\n",
    "    print(a(i))"
   ]
  },
  {
   "cell_type": "markdown",
   "metadata": {},
   "source": [
    "## nonlocal"
   ]
  },
  {
   "cell_type": "raw",
   "metadata": {},
   "source": [
    "The use of nonlocal keyword is very much similar to the global keyword. \n",
    "\n",
    "nonlocal is used to declare that a variable inside a nested function (function inside a function) is not local to it, meaning it lies in the outer inclosing function. \n",
    "\n",
    "If we need to modify the value of a non-local variable inside a nested function, then we must declare it with nonlocal. \n",
    "\n",
    "Otherwise a local variable with that name is created inside the nested function."
   ]
  },
  {
   "cell_type": "raw",
   "metadata": {},
   "source": [
    "Let's consider 2 variants"
   ]
  },
  {
   "cell_type": "code",
   "execution_count": 86,
   "metadata": {},
   "outputs": [
    {
     "name": "stdout",
     "output_type": "stream",
     "text": [
      "Inner is modified\n",
      "Outer is initial\n"
     ]
    }
   ],
   "source": [
    "# Here we don't declare variable as nonlocal in inner() so it doesn't change value of variable in outer()\n",
    "\n",
    "def outer():\n",
    "    variable = 'initial'\n",
    "    def inner():\n",
    "        variable = 'modified'\n",
    "        print('Inner is ' + variable)\n",
    "    inner()\n",
    "    print('Outer is ' + variable)\n",
    "\n",
    "outer()"
   ]
  },
  {
   "cell_type": "code",
   "execution_count": 89,
   "metadata": {},
   "outputs": [
    {
     "name": "stdout",
     "output_type": "stream",
     "text": [
      "Inner is modified\n",
      "Outer is modified\n"
     ]
    }
   ],
   "source": [
    "# Here we declare it as nonlocal and it changes in both functions\n",
    "\n",
    "def outer():\n",
    "    variable = 'initial'\n",
    "    def inner():\n",
    "        nonlocal variable\n",
    "        variable = 'modified'\n",
    "        print('Inner is ' + variable)\n",
    "    inner()\n",
    "    print('Outer is ' + variable)\n",
    "\n",
    "outer()"
   ]
  },
  {
   "cell_type": "markdown",
   "metadata": {},
   "source": [
    "## yield"
   ]
  },
  {
   "cell_type": "raw",
   "metadata": {},
   "source": [
    "yield is used inside a function like a return statement. But yield returns a generator."
   ]
  },
  {
   "cell_type": "code",
   "execution_count": 116,
   "metadata": {},
   "outputs": [
    {
     "name": "stdout",
     "output_type": "stream",
     "text": [
      "0\n",
      "1\n",
      "4\n",
      "9\n",
      "16\n",
      "25\n",
      "36\n",
      "49\n",
      "64\n",
      "81\n",
      "100\n"
     ]
    }
   ],
   "source": [
    "def generator():\n",
    "    for x in range(0, 11):\n",
    "        yield x * x\n",
    "\n",
    "for x in generator():\n",
    "    print(x)"
   ]
  },
  {
   "cell_type": "raw",
   "metadata": {},
   "source": [
    "We can see the difference if with compare it with the same function but with the return statement."
   ]
  },
  {
   "cell_type": "code",
   "execution_count": 117,
   "metadata": {},
   "outputs": [
    {
     "ename": "TypeError",
     "evalue": "'int' object is not iterable",
     "output_type": "error",
     "traceback": [
      "\u001b[1;31m---------------------------------------------------------------------------\u001b[0m",
      "\u001b[1;31mTypeError\u001b[0m                                 Traceback (most recent call last)",
      "\u001b[1;32m<ipython-input-117-c81d70120264>\u001b[0m in \u001b[0;36m<module>\u001b[1;34m\u001b[0m\n\u001b[0;32m      3\u001b[0m         \u001b[1;32mreturn\u001b[0m \u001b[0mx\u001b[0m \u001b[1;33m*\u001b[0m \u001b[0mx\u001b[0m\u001b[1;33m\u001b[0m\u001b[1;33m\u001b[0m\u001b[0m\n\u001b[0;32m      4\u001b[0m \u001b[1;33m\u001b[0m\u001b[0m\n\u001b[1;32m----> 5\u001b[1;33m \u001b[1;32mfor\u001b[0m \u001b[0mx\u001b[0m \u001b[1;32min\u001b[0m \u001b[0mgenerator\u001b[0m\u001b[1;33m(\u001b[0m\u001b[1;33m)\u001b[0m\u001b[1;33m:\u001b[0m\u001b[1;33m\u001b[0m\u001b[1;33m\u001b[0m\u001b[0m\n\u001b[0m\u001b[0;32m      6\u001b[0m     \u001b[0mprint\u001b[0m\u001b[1;33m(\u001b[0m\u001b[0mx\u001b[0m\u001b[1;33m)\u001b[0m\u001b[1;33m\u001b[0m\u001b[1;33m\u001b[0m\u001b[0m\n",
      "\u001b[1;31mTypeError\u001b[0m: 'int' object is not iterable"
     ]
    }
   ],
   "source": [
    "def generator():\n",
    "    for x in range(0, 11):\n",
    "        return x * x\n",
    "\n",
    "for x in generator():\n",
    "    print(x)"
   ]
  },
  {
   "cell_type": "markdown",
   "metadata": {},
   "source": [
    "# Identifiers"
   ]
  },
  {
   "cell_type": "raw",
   "metadata": {},
   "source": [
    "Identifiers can be a combination of lowercase letters, uppercase letters, digits(0-9) and underscore (_).\n",
    "\n",
    "An identifier can't start with a digit. var1 is valid but 1var isn't valid.\n",
    "\n",
    "Keyword can't be used as identifiers.\n",
    "\n",
    "We can't use special symbols like !, @, #, $, % etc. in our identifier."
   ]
  },
  {
   "cell_type": "raw",
   "metadata": {},
   "source": [
    "Python is a case-sensitive language.\n",
    "\n",
    "count = 10, COUNT = 10 and Count = 10 are different variables."
   ]
  },
  {
   "cell_type": "raw",
   "metadata": {},
   "source": [
    "Multiple words in a variable should be separated using an underscore (_)."
   ]
  },
  {
   "cell_type": "raw",
   "metadata": {},
   "source": [
    "Variables that should'n be touched futher are recommended to be UPPERCASE."
   ]
  }
 ],
 "metadata": {
  "kernelspec": {
   "display_name": "Python 3",
   "language": "python",
   "name": "python3"
  },
  "language_info": {
   "codemirror_mode": {
    "name": "ipython",
    "version": 3
   },
   "file_extension": ".py",
   "mimetype": "text/x-python",
   "name": "python",
   "nbconvert_exporter": "python",
   "pygments_lexer": "ipython3",
   "version": "3.7.7"
  },
  "pycharm": {
   "stem_cell": {
    "cell_type": "raw",
    "metadata": {
     "collapsed": false
    },
    "source": [
     "#%\n"
    ]
   }
  }
 },
 "nbformat": 4,
 "nbformat_minor": 4
}
