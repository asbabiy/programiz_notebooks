{
 "cells": [
  {
   "cell_type": "markdown",
   "metadata": {},
   "source": [
    "# abs(num)"
   ]
  },
  {
   "cell_type": "code",
   "execution_count": 44,
   "metadata": {
    "pycharm": {
     "is_executing": true
    }
   },
   "outputs": [
    {
     "data": {
      "text/plain": [
       "15"
      ]
     },
     "execution_count": 44,
     "metadata": {},
     "output_type": "execute_result"
    }
   ],
   "source": [
    "# Returns the absolute value of the given number\n",
    "abs(-15)"
   ]
  },
  {
   "cell_type": "markdown",
   "metadata": {},
   "source": [
    "# all(iterable)"
   ]
  },
  {
   "cell_type": "markdown",
   "metadata": {
    "pycharm": {
     "name": "#%% md\n"
    }
   },
   "source": [
    "Returns all if all elements in iterable are True. Empty iterable objects are considered True."
   ]
  },
  {
   "cell_type": "code",
   "execution_count": null,
   "metadata": {
    "pycharm": {
     "is_executing": false
    }
   },
   "outputs": [],
   "source": [
    "print(all(x % 2 == 0 for x in [2, 4, 5, 6, 8]))\n",
    "print(all(x % 2 == 0 for x in [2, 4, 6, 8]))\n",
    "x = []\n",
    "if all([1]):\n",
    "    print('!')"
   ]
  },
  {
   "cell_type": "markdown",
   "metadata": {},
   "source": [
    "# any(iterable)"
   ]
  },
  {
   "cell_type": "markdown",
   "metadata": {
    "pycharm": {
     "name": "#%% md\n"
    }
   },
   "source": [
    "Returns all if at least one element in iterable is True. Empty iterable objects are considered True."
   ]
  },
  {
   "cell_type": "code",
   "execution_count": null,
   "metadata": {
    "pycharm": {
     "is_executing": false
    }
   },
   "outputs": [],
   "source": [
    "print(any(x % 2 == 0 for x in [1, 3, 4, 5, 7, 9]))"
   ]
  },
  {
   "cell_type": "markdown",
   "metadata": {},
   "source": [
    "# ascii(obj)"
   ]
  },
  {
   "cell_type": "markdown",
   "metadata": {
    "pycharm": {
     "name": "#%% md\n"
    }
   },
   "source": [
    "Returns a printable representation of an object."
   ]
  },
  {
   "cell_type": "code",
   "execution_count": null,
   "metadata": {
    "pycharm": {
     "is_executing": false
    }
   },
   "outputs": [],
   "source": [
    "normalText = 'Python is interesting'\n",
    "print(ascii(normalText))\n",
    "\n",
    "otherText = 'Pythön is interesting'\n",
    "print(ascii(otherText))\n",
    "\n",
    "print('Pyth\\xf6n is interesting')"
   ]
  },
  {
   "cell_type": "markdown",
   "metadata": {},
   "source": [
    "# bin(int)"
   ]
  },
  {
   "cell_type": "markdown",
   "metadata": {
    "pycharm": {
     "name": "#%% md\n"
    }
   },
   "source": [
    "Returns a binary representation of an integer."
   ]
  },
  {
   "cell_type": "code",
   "execution_count": null,
   "metadata": {
    "pycharm": {
     "is_executing": false
    },
    "scrolled": true
   },
   "outputs": [],
   "source": [
    "bin(17)"
   ]
  },
  {
   "cell_type": "markdown",
   "metadata": {},
   "source": [
    "# bool(value)"
   ]
  },
  {
   "cell_type": "markdown",
   "metadata": {
    "pycharm": {
     "name": "#%% md\n"
    }
   },
   "source": [
    "Returns False for:\n",
    "- Empty [], {}, (), ''\n",
    "- None\n",
    "- False\n",
    "- 0 of any type"
   ]
  },
  {
   "cell_type": "code",
   "execution_count": null,
   "metadata": {
    "pycharm": {
     "is_executing": false
    }
   },
   "outputs": [],
   "source": [
    "print(bool(0))\n",
    "print(bool('0'))"
   ]
  },
  {
   "cell_type": "markdown",
   "metadata": {},
   "source": [
    "# bytearray()"
   ]
  },
  {
   "cell_type": "markdown",
   "metadata": {
    "pycharm": {
     "name": "#%% md\n"
    }
   },
   "source": [
    "The __bytes()__ method returns a mutable bytearray object initialized with the given size and data."
   ]
  },
  {
   "cell_type": "code",
   "execution_count": null,
   "metadata": {
    "pycharm": {
     "is_executing": false
    }
   },
   "outputs": [],
   "source": [
    "print(bytearray(10))\n",
    "print(bytearray('Hello', encoding='utf-8'))"
   ]
  },
  {
   "cell_type": "markdown",
   "metadata": {},
   "source": [
    "# callable()"
   ]
  },
  {
   "cell_type": "markdown",
   "metadata": {
    "pycharm": {
     "name": "#%% md\n"
    }
   },
   "source": [
    "The __callable()__ method returns __True__ if the object passed appears callable. If not, it returns __False__."
   ]
  },
  {
   "cell_type": "markdown",
   "metadata": {
    "pycharm": {
     "name": "#%% md\n"
    }
   },
   "source": [
    "It is important to remember that, even if the callable() is True, call to the object may still fail.\n",
    "\n",
    "However, if the callable() returns False, call to the object will certainly fail."
   ]
  },
  {
   "cell_type": "code",
   "execution_count": null,
   "metadata": {
    "pycharm": {
     "is_executing": false
    }
   },
   "outputs": [],
   "source": [
    "class Class1:\n",
    "    def __call__(self):\n",
    "        print(\"It's callable\")\n",
    "        \n",
    "InstClass1 = Class1()\n",
    "\n",
    "class Class2:\n",
    "    def Line(self):\n",
    "        print(\"It's not callable\")\n",
    "        \n",
    "print(callable(Class1))\n",
    "print(callable(InstClass1))\n",
    "print(callable(Class2))"
   ]
  },
  {
   "cell_type": "markdown",
   "metadata": {},
   "source": [
    "# bytes()"
   ]
  },
  {
   "cell_type": "markdown",
   "metadata": {
    "pycharm": {
     "name": "#%% md\n"
    }
   },
   "source": [
    "The __bytes()__ method returns a immutable bytes object initialized with the given size and data."
   ]
  },
  {
   "cell_type": "code",
   "execution_count": null,
   "metadata": {
    "pycharm": {
     "is_executing": false
    }
   },
   "outputs": [],
   "source": [
    "print(bytes(10))\n",
    "print(bytes('Hello', encoding='utf-8'))"
   ]
  },
  {
   "cell_type": "markdown",
   "metadata": {},
   "source": [
    "# chr()"
   ]
  },
  {
   "cell_type": "markdown",
   "metadata": {
    "pycharm": {
     "name": "#%% md\n"
    }
   },
   "source": [
    "The __chr()__ method returns a character (a string) from an integer (represents unicode code point of the character)."
   ]
  },
  {
   "cell_type": "code",
   "execution_count": null,
   "metadata": {
    "pycharm": {
     "is_executing": false
    }
   },
   "outputs": [],
   "source": [
    "print(chr(97))\n",
    "print(chr(65))\n",
    "print(chr(1200))"
   ]
  },
  {
   "cell_type": "markdown",
   "metadata": {},
   "source": [
    "# classmethod(method) and staticmethod(method)"
   ]
  },
  {
   "cell_type": "markdown",
   "metadata": {
    "pycharm": {
     "name": "#%% md\n"
    }
   },
   "source": [
    "This is un-Pythonic, __@classmethod__ and __@staticmethod__ decorators should be used."
   ]
  },
  {
   "cell_type": "code",
   "execution_count": null,
   "metadata": {},
   "outputs": [],
   "source": [
    "class A:  # object\n",
    "    def mtd(self, x):  # usual method\n",
    "        print('Usual method number', x)\n",
    "    @classmethod\n",
    "    def clsmtd(cls, x):  # class method\n",
    "        print('Class method number', x)\n",
    "    @staticmethod\n",
    "    def stmtd(x):  # static method\n",
    "        print('Static method number', x)"
   ]
  },
  {
   "cell_type": "markdown",
   "metadata": {
    "pycharm": {
     "name": "#%% md\n"
    }
   },
   "source": [
    "__Usual method__\n",
    "\n",
    "The object instance is implicitly passed as the first argument instead of 'self'."
   ]
  },
  {
   "cell_type": "code",
   "execution_count": null,
   "metadata": {
    "scrolled": true
   },
   "outputs": [],
   "source": [
    "random_a = A()  # class instance\n",
    "random_a.mtd(1)"
   ]
  },
  {
   "cell_type": "markdown",
   "metadata": {
    "pycharm": {
     "name": "#%% md\n"
    }
   },
   "source": [
    "__Class method__\n",
    "\n",
    "The class of the object instance or the object instance itself are implicitly pass as the first argument instead of 'cls'."
   ]
  },
  {
   "cell_type": "code",
   "execution_count": null,
   "metadata": {
    "scrolled": true
   },
   "outputs": [],
   "source": [
    "A.clsmtd(2)"
   ]
  },
  {
   "cell_type": "markdown",
   "metadata": {
    "pycharm": {
     "name": "#%% md\n"
    }
   },
   "source": [
    "__Static method__\n",
    "\n",
    "This method knows nothing about the class or instance it was called on.\n",
    "\n",
    "It's a way of putting a function into a class because it logically belongs there."
   ]
  },
  {
   "cell_type": "code",
   "execution_count": null,
   "metadata": {},
   "outputs": [],
   "source": [
    "A.stmtd(3)"
   ]
  },
  {
   "cell_type": "markdown",
   "metadata": {
    "pycharm": {
     "is_executing": false
    }
   },
   "source": [
    "# complex()"
   ]
  },
  {
   "cell_type": "raw",
   "metadata": {},
   "source": [
    "complex([real[, imag]])"
   ]
  },
  {
   "cell_type": "code",
   "execution_count": null,
   "metadata": {
    "pycharm": {
     "is_executing": false
    },
    "scrolled": true
   },
   "outputs": [],
   "source": [
    "z = complex(2, -3)\n",
    "print(z)\n",
    "\n",
    "z = complex(1)\n",
    "print(z)\n",
    "\n",
    "z = complex()\n",
    "print(z)\n",
    "\n",
    "z = complex('5-9j')\n",
    "print(z)"
   ]
  },
  {
   "cell_type": "markdown",
   "metadata": {},
   "source": [
    "# getattr()"
   ]
  },
  {
   "cell_type": "raw",
   "metadata": {},
   "source": [
    "The getattr() method returns the value of the named attribute of an object. If not found, it returns the default value provided to the function.\n",
    "\n",
    "It is equal to <object.name>"
   ]
  },
  {
   "cell_type": "code",
   "execution_count": null,
   "metadata": {},
   "outputs": [],
   "source": [
    "class Car:\n",
    "    wheel = 4\n",
    "    engine = 1\n",
    "\n",
    "car = Car()\n",
    "print(getattr(car, 'wheel'))\n",
    "print(getattr(car, 'steer', 'Nope'))  # Here we use 'Nope' value that is returned when the named attribute is not found\n",
    "print(car.wheel)"
   ]
  },
  {
   "cell_type": "markdown",
   "metadata": {},
   "source": [
    "# setattr()"
   ]
  },
  {
   "cell_type": "raw",
   "metadata": {},
   "source": [
    "The setattr() function sets the value of the attribute of an object."
   ]
  },
  {
   "cell_type": "raw",
   "metadata": {},
   "source": [
    "The setattr() function takes three parameters:\n",
    "    1) object - object whose attribute has to be set\n",
    "    2) name - attribute name\n",
    "    3) value - value given to the attribute"
   ]
  },
  {
   "cell_type": "code",
   "execution_count": null,
   "metadata": {},
   "outputs": [],
   "source": [
    "class Person:\n",
    "    name = 'Adam'\n",
    "\n",
    "print(Person.name)\n",
    "setattr(Person, 'name', 'John')\n",
    "print(Person.name)"
   ]
  },
  {
   "cell_type": "markdown",
   "metadata": {},
   "source": [
    "# delattr(object, name)"
   ]
  },
  {
   "cell_type": "raw",
   "metadata": {},
   "source": [
    "The delattr() function deletes the attribute of an object. It is equal to 'del'."
   ]
  },
  {
   "cell_type": "code",
   "execution_count": null,
   "metadata": {
    "pycharm": {
     "is_executing": false
    }
   },
   "outputs": [],
   "source": [
    "class Coordinate:\n",
    "  x = 10\n",
    "  y = -5\n",
    "  z = 0\n",
    "\n",
    "delattr(Coordinate, 'z')"
   ]
  },
  {
   "cell_type": "code",
   "execution_count": null,
   "metadata": {
    "pycharm": {
     "is_executing": false
    }
   },
   "outputs": [],
   "source": [
    "class Coordinate:\n",
    "  x = 10\n",
    "  y = -5\n",
    "  z = 0\n",
    "\n",
    "del Coordinate.z"
   ]
  },
  {
   "cell_type": "markdown",
   "metadata": {},
   "source": [
    "# dict()"
   ]
  },
  {
   "cell_type": "raw",
   "metadata": {},
   "source": [
    "The dict() constructor creates a dictionary in Python.\n",
    "\n",
    "dict(**kwarg)\n",
    "\n",
    "dict(iterable, **kwarg)\n",
    "\n",
    "**kwarg lets you take an arbitrary number of keyword arguments.\n",
    "\n",
    "Dict comprehension replaces it since Python 2.7"
   ]
  },
  {
   "cell_type": "code",
   "execution_count": null,
   "metadata": {
    "pycharm": {
     "is_executing": false
    }
   },
   "outputs": [],
   "source": [
    "numbers = dict(x=5, y=0)\n",
    "print('numbers =', numbers)"
   ]
  },
  {
   "cell_type": "code",
   "execution_count": null,
   "metadata": {
    "pycharm": {
     "is_executing": false
    }
   },
   "outputs": [],
   "source": [
    "# keyword argument is not passed\n",
    "numbers1 = dict([('x', 5), ('y', -5)])\n",
    "print('numbers1 =',numbers1)\n",
    "\n",
    "# keyword argument is also passed\n",
    "numbers2 = dict([('x', 5), ('y', -5)], z=8)\n",
    "print('numbers2 =',numbers2)"
   ]
  },
  {
   "cell_type": "markdown",
   "metadata": {},
   "source": [
    "# dir(obj)"
   ]
  },
  {
   "cell_type": "raw",
   "metadata": {},
   "source": [
    "The dir() method tries to return a list of valid attributes of the object."
   ]
  },
  {
   "cell_type": "code",
   "execution_count": null,
   "metadata": {
    "pycharm": {
     "is_executing": false
    }
   },
   "outputs": [],
   "source": [
    "number = [1, 2, 3]\n",
    "print(dir(number))\n",
    "\n",
    "class Person:\n",
    "  def __dir__(self):\n",
    "    return ['age', 'name', 'salary']\n",
    "    \n",
    "\n",
    "teacher = Person()\n",
    "print(dir(teacher))"
   ]
  },
  {
   "cell_type": "markdown",
   "metadata": {},
   "source": [
    "# divmod(num1, num2)"
   ]
  },
  {
   "cell_type": "raw",
   "metadata": {},
   "source": [
    "The divmod() method takes two numbers and returns a tuple consisting of their quotient and remainder."
   ]
  },
  {
   "cell_type": "code",
   "execution_count": null,
   "metadata": {
    "pycharm": {
     "is_executing": false
    }
   },
   "outputs": [],
   "source": [
    "print('divmod(8, 3) = ', divmod(8, 3))\n",
    "print('divmod(8.0, 3) = ', divmod(8.0, 3))"
   ]
  },
  {
   "cell_type": "markdown",
   "metadata": {},
   "source": [
    "# enumerate(iterable, start=0)"
   ]
  },
  {
   "cell_type": "raw",
   "metadata": {},
   "source": [
    "The enumerate() method adds counter to an iterable and returns it (the enumerate object)."
   ]
  },
  {
   "cell_type": "code",
   "execution_count": null,
   "metadata": {
    "pycharm": {
     "is_executing": false
    }
   },
   "outputs": [],
   "source": [
    "grocery = ['bread', 'milk', 'butter']\n",
    "\n",
    "print(list(enumerate(grocery)))\n",
    "print(list(enumerate(grocery, 10)))"
   ]
  },
  {
   "cell_type": "markdown",
   "metadata": {},
   "source": [
    "# filter(function, iterable)"
   ]
  },
  {
   "cell_type": "code",
   "execution_count": 1,
   "metadata": {
    "pycharm": {
     "is_executing": false
    },
    "scrolled": true
   },
   "outputs": [
    {
     "name": "stdout",
     "output_type": "stream",
     "text": [
      "aeio"
     ]
    }
   ],
   "source": [
    "alphabets = ['a', 'b', 'd', 'e', 'i', 'j', 'o']\n",
    "\n",
    "def filterVowels(alphabet):\n",
    "    vowels = ['a', 'e', 'i', 'o', 'u']\n",
    "    return True if(alphabet in vowels) else False\n",
    "\n",
    "filteredVowels = filter(filterVowels, alphabets)\n",
    "\n",
    "for vowel in filteredVowels:\n",
    "    print(vowel, end='')"
   ]
  },
  {
   "cell_type": "markdown",
   "metadata": {},
   "source": [
    "# compile(), eval() and exec()"
   ]
  },
  {
   "cell_type": "raw",
   "metadata": {
    "pycharm": {
     "is_executing": false
    }
   },
   "source": [
    "exec() and eval() take an expression and optional globals and locals.\n",
    "\n",
    "eval(expression, globals, locals) and exec(expression, globals, locals)\n",
    "\n",
    "Globals and locals dicts restrict the use of available methods and variables."
   ]
  },
  {
   "cell_type": "raw",
   "metadata": {},
   "source": [
    "eval() and exec() have 2 differences:\n",
    "    1) eval() accepts only a SINGLE EXPRESSION, exec() can take a block of Python statements (classes, functions, while, if ...else, assignment statements etc.)\n",
    "    2) eval() RETURNS the value of the given expression, whereas exec() always returns None and can modify a global variable as a side effect.\n",
    "     \n",
    "An expression in Python is whatever you can have as the value in a variable assignment:\n",
    "    a_variable = (anything you can put within these parentheses is an expression)\n"
   ]
  },
  {
   "cell_type": "code",
   "execution_count": 2,
   "metadata": {},
   "outputs": [
    {
     "name": "stdout",
     "output_type": "stream",
     "text": [
      "Now it is 5\n",
      "16\n"
     ]
    }
   ],
   "source": [
    "a = 16\n",
    "print('Now it is', eval(\"a + 5\"))\n",
    "print(a)"
   ]
  },
  {
   "cell_type": "code",
   "execution_count": 3,
   "metadata": {
    "scrolled": true
   },
   "outputs": [
    {
     "name": "stdout",
     "output_type": "stream",
     "text": [
      "Now it is 14\n",
      "14\n"
     ]
    }
   ],
   "source": [
    "a = 4\n",
    "code = '''\n",
    "if a < 6:\n",
    "    a = a + 10\n",
    "    print('Now it is', a)\n",
    "else:\n",
    "    a = a + 5\n",
    "    print('Now it is', a)\n",
    "'''\n",
    "exec(code)\n",
    "print(a)"
   ]
  },
  {
   "cell_type": "raw",
   "metadata": {},
   "source": [
    "compile() can be used to speed up repeated invocations of the same code with exec or eval by compiling the source into a code object beforehand."
   ]
  },
  {
   "cell_type": "raw",
   "metadata": {},
   "source": [
    "compile(source, filename, mode, flags=0, dont_inherit=False, optimize=-1)\n",
    "\n",
    "source - a normal string, a byte string, or an AST object\n",
    "\n",
    "filename - file from which the code was read. If it wasn't read from a file, you can give a name yourself\n",
    "\n",
    "mode - Either exec or eval or single.\n",
    "\n",
    "    'eval' mode expects a single expression. It will produce bytecode that when run will return the value of that expression.\n",
    "\n",
    "    'exec' mode accepts any kinds of python constructs and executes them. It return None.\n",
    "\n",
    "    'single' is like 'exec', but it ignores everything except for the first statement. It is used for a single statement.\n",
    "    \n",
    "# Note that if/else statements etc. with their results are considered a single STATEMENT.\n",
    "\n",
    "flags (optional) and dont_inherit (optional) - controls which future statements affect the compilation of the source. Default Value: 0\n",
    "\n",
    "optimize (optional) - optimization level of the compiler. Default value -1."
   ]
  },
  {
   "cell_type": "raw",
   "metadata": {},
   "source": [
    "If a string containing source code was passed to exec(), it behaves equivalently to exec(compile(source, '<string>', 'exec')).\n",
    "\n",
    "Hence, eval() behaves eqivalently to exec(compile(string, '<string>', 'eval'))."
   ]
  },
  {
   "cell_type": "code",
   "execution_count": 4,
   "metadata": {},
   "outputs": [
    {
     "data": {
      "text/plain": [
       "11"
      ]
     },
     "execution_count": 4,
     "metadata": {},
     "output_type": "execute_result"
    }
   ],
   "source": [
    "a = 5\n",
    "ev = compile('a + 6', '<string>', 'eval')\n",
    "eval(ev)"
   ]
  },
  {
   "cell_type": "code",
   "execution_count": 5,
   "metadata": {},
   "outputs": [
    {
     "name": "stdout",
     "output_type": "stream",
     "text": [
      "It is 11\n",
      "It is 11\n",
      "It is 11\n"
     ]
    }
   ],
   "source": [
    "a = 5\n",
    "code = '''\n",
    "for i in range(0, 3):\n",
    "    print('It is', a + 6)\n",
    "'''\n",
    "ex = compile(code, '<string>', 'exec')\n",
    "exec(ex)"
   ]
  },
  {
   "cell_type": "raw",
   "metadata": {},
   "source": [
    "While 'eval' only allows you to evaluate a string that contains a single expression, you can eval even statements by compiling them with 'exec' mode."
   ]
  },
  {
   "cell_type": "code",
   "execution_count": 6,
   "metadata": {},
   "outputs": [
    {
     "name": "stdout",
     "output_type": "stream",
     "text": [
      "I did it!\n",
      "I did it!\n",
      "I did it!\n"
     ]
    }
   ],
   "source": [
    "code = '''\n",
    "for i in range(0, 3):\n",
    "    print('I did it!')\n",
    "'''\n",
    "eval(compile(code, '<string>', 'exec'))"
   ]
  },
  {
   "cell_type": "markdown",
   "metadata": {},
   "source": [
    "# float()"
   ]
  },
  {
   "cell_type": "raw",
   "metadata": {},
   "source": [
    "The float() method returns a floating point number from a number or a string."
   ]
  },
  {
   "cell_type": "markdown",
   "metadata": {},
   "source": [
    "# format()"
   ]
  },
  {
   "cell_type": "raw",
   "metadata": {},
   "source": [
    "The built-in format() method returns a formatted representation of the given value controlled by the format specifier."
   ]
  },
  {
   "cell_type": "raw",
   "metadata": {},
   "source": [
    "[[fill]align][sign][#][0][width][,][.precision][type]"
   ]
  },
  {
   "cell_type": "raw",
   "metadata": {},
   "source": [
    "fill      \n",
    "\n",
    "We define a character which fills the remaining empty space."
   ]
  },
  {
   "cell_type": "code",
   "execution_count": null,
   "metadata": {},
   "outputs": [],
   "source": [
    "format(123, 'Z^20')"
   ]
  },
  {
   "cell_type": "raw",
   "metadata": {},
   "source": [
    "align\n",
    "\n",
    "We define alignment of the given value.\n",
    "\n",
    "< left aligned to the remaining space\n",
    "> right aligned to the remaining space.\n",
    "^ center aligned to the remaining space.\n",
    "= aligns right and forces '+' and '-' in the value to the leftmost position."
   ]
  },
  {
   "cell_type": "code",
   "execution_count": null,
   "metadata": {},
   "outputs": [],
   "source": [
    "print(format(-123.456, '<20'))  # <\n",
    "print(format(-123.456, '>20'))  # >\n",
    "print(format(-123.456, '^20'))  # ^\n",
    "print(format(-123.456, '=20'))  # ="
   ]
  },
  {
   "cell_type": "raw",
   "metadata": {},
   "source": [
    "sign\n",
    "\n",
    "Defines a sign before the value.\n",
    "\n",
    "Signs can be:\n",
    "    1) '+' prefixes positive numbers with a sign '+' but doesn't affect negative numbers\n",
    "    2) '-' replaces '+' prefix to an empty space. Negative numbers are prefixed with a sign '-' by default.\n",
    "    3) ' ' doesn't affect negative numbers but prefixed positive numbers with an empty space (that isn't to be filled by a fill sign)."
   ]
  },
  {
   "cell_type": "code",
   "execution_count": null,
   "metadata": {},
   "outputs": [],
   "source": [
    "print(format(123.456, '+10'))  # 1\n",
    "print(format(-123.456, '+10'))  # 2\n",
    "print(format(123.456, ' 10'))  # 3\n",
    "print(format(-123.456, ' 10'))  # 3"
   ]
  },
  {
   "cell_type": "raw",
   "metadata": {},
   "source": [
    "width\n",
    "\n",
    "It forces the given value to take a minimum width of X where X = width (integer)."
   ]
  },
  {
   "cell_type": "code",
   "execution_count": null,
   "metadata": {
    "scrolled": true
   },
   "outputs": [],
   "source": [
    "print(format(123.456, '^10'))  # 1\n",
    "print(format(123.456, '^20'))  # 2"
   ]
  },
  {
   "cell_type": "raw",
   "metadata": {},
   "source": [
    "separator\n",
    "\n",
    "It specifies that thousands should be separated using your separator sign. It can be ',' or '_'."
   ]
  },
  {
   "cell_type": "code",
   "execution_count": null,
   "metadata": {
    "scrolled": true
   },
   "outputs": [],
   "source": [
    "print(format(123456.789, ','))\n",
    "print(format(123456.789, '_'))"
   ]
  },
  {
   "cell_type": "raw",
   "metadata": {},
   "source": [
    ".precision\n",
    "\n",
    "Precision is an integer which sets the precision of the given floating number."
   ]
  },
  {
   "cell_type": "code",
   "execution_count": null,
   "metadata": {
    "scrolled": true
   },
   "outputs": [],
   "source": [
    "print(format(123.4567890, '.2f'))"
   ]
  },
  {
   "cell_type": "raw",
   "metadata": {},
   "source": [
    "type\n",
    "\n",
    "Defines a number formatting type.\n",
    "\n",
    "Types are:\n",
    "    1) 'd' for decimal integer\n",
    "    2) 'c' for corresponding Unicode character\n",
    "    3) 'b' for binary format\n",
    "    4) 'o' for octal format\n",
    "    5) 'x' for hexadecimal format (lowercase)\n",
    "    6) 'X' for hexadecimal format (uppercase)\n",
    "    7) 'n' is the same as 'd' except it uses current locale setting (system settings) for number separator\n",
    "    8) 'e' for exponential notation (lowercase)\n",
    "    9) 'E' for exponential notation (uppercase)\n",
    "    10) 'f' for floating numbers. It displays fixed point number (Default: 6).\n",
    "    11) 'F' is the same as 'f' except displays 'inf' as 'INF' and 'nan' as 'NAN'.\n",
    "    12) 'g' for general format. It rounds number to p significant digits. (Default precision: 6)\n",
    "    13) 'G' is the same as 'g' except it switches to 'E' if the number is large.\n",
    "    14) '%' is for percentage. It multiplies by 100 and puts % at the end."
   ]
  },
  {
   "cell_type": "code",
   "execution_count": null,
   "metadata": {
    "scrolled": true
   },
   "outputs": [],
   "source": [
    "import math\n",
    "\n",
    "print(format(123456, 'd'))  # 1\n",
    "print(format(123456, 'c'))  # 2\n",
    "print(format(123456, 'b'))  # 3\n",
    "print(format(123456, 'o'))  # 4\n",
    "print(format(123456, 'x'))  # 5\n",
    "print(format(123456, 'X'))  # 6\n",
    "print(format(123456, 'n'))  # 7\n",
    "print(format(12345e6, 'e'))  # 8\n",
    "print(format(12345e6, 'E'))  # 9\n",
    "print(format(1.234567, 'f'))  # 10\n",
    "print(format(math.inf, 'f'))  # 10\n",
    "print(format(math.inf, 'F'))  # 11\n",
    "print(format(123456, 'g'))  # 12\n",
    "print(format(12345678, 'g'))  # 12\n",
    "print(format(12345678, 'G'))  # 13\n",
    "print(format(1, '%'))  # 14"
   ]
  },
  {
   "cell_type": "code",
   "execution_count": null,
   "metadata": {},
   "outputs": [],
   "source": [
    "# Final experiments\n",
    "print(format(-1234.5678, 'Z= 15_.2f'))\n",
    "print(format(1234.5678, 'G^+20_.3f'))\n",
    "print(format(-1234.5678, 'Q> 30,.6f'))"
   ]
  },
  {
   "cell_type": "markdown",
   "metadata": {},
   "source": [
    "# frozenset()"
   ]
  },
  {
   "cell_type": "raw",
   "metadata": {},
   "source": [
    "The frozenset() method returns an immutable frozenset object initialized with elements from the given iterable.\n",
    "\n",
    "Frozen set is just an immutable version of a Python set object. While elements of a set can be modified at any time, elements of frozen set remains the same after creation."
   ]
  },
  {
   "cell_type": "code",
   "execution_count": null,
   "metadata": {},
   "outputs": [],
   "source": [
    "frozenset([1, 2, 3, 4])"
   ]
  },
  {
   "cell_type": "markdown",
   "metadata": {},
   "source": [
    "# globals()"
   ]
  },
  {
   "cell_type": "raw",
   "metadata": {},
   "source": [
    "The globals() method returns the dictionary of the current global symbol table."
   ]
  },
  {
   "cell_type": "code",
   "execution_count": null,
   "metadata": {},
   "outputs": [],
   "source": [
    "globals()"
   ]
  },
  {
   "cell_type": "markdown",
   "metadata": {},
   "source": [
    "# hasattr()"
   ]
  },
  {
   "cell_type": "raw",
   "metadata": {},
   "source": [
    "The hasattr() method returns true if an object has the given named attribute and false if it does not."
   ]
  },
  {
   "cell_type": "code",
   "execution_count": null,
   "metadata": {},
   "outputs": [],
   "source": [
    "class Person:\n",
    "    name = 'Alex'\n",
    "    age = 18\n",
    "\n",
    "print(hasattr(Person, 'name'))\n",
    "print(hasattr(Person, 'weight'))"
   ]
  },
  {
   "cell_type": "markdown",
   "metadata": {},
   "source": [
    "# help()"
   ]
  },
  {
   "cell_type": "raw",
   "metadata": {},
   "source": [
    "The help() method calls the built-in Python help system."
   ]
  },
  {
   "cell_type": "markdown",
   "metadata": {},
   "source": [
    "# hex()"
   ]
  },
  {
   "cell_type": "raw",
   "metadata": {},
   "source": [
    "The hex() function converts an integer number to the corresponding hexadecimal string."
   ]
  },
  {
   "cell_type": "code",
   "execution_count": null,
   "metadata": {},
   "outputs": [],
   "source": [
    "hex(168)"
   ]
  },
  {
   "cell_type": "markdown",
   "metadata": {},
   "source": [
    "# hash()"
   ]
  },
  {
   "cell_type": "raw",
   "metadata": {},
   "source": [
    "The hash() method returns the hash value of an object if it has one."
   ]
  },
  {
   "cell_type": "code",
   "execution_count": null,
   "metadata": {},
   "outputs": [],
   "source": [
    "print(hash(181))\n",
    "print(hash('Python'))\n",
    "print(hash([1, 2, 4]))  # unhashable"
   ]
  },
  {
   "cell_type": "markdown",
   "metadata": {},
   "source": [
    "# input()"
   ]
  },
  {
   "cell_type": "raw",
   "metadata": {},
   "source": [
    "The input() method reads a line from input, converts into a string and returns it."
   ]
  },
  {
   "cell_type": "markdown",
   "metadata": {},
   "source": [
    "# id()"
   ]
  },
  {
   "cell_type": "raw",
   "metadata": {},
   "source": [
    "The id() function returns identity (unique integer) of an object.\n",
    "\n",
    "It's important to note that everything in Python is an object, even numbers and Classes."
   ]
  },
  {
   "cell_type": "markdown",
   "metadata": {},
   "source": [
    "# isinstance()"
   ]
  },
  {
   "cell_type": "raw",
   "metadata": {},
   "source": [
    "This method checks if the object is an instance or subclass of classinfo class."
   ]
  },
  {
   "cell_type": "raw",
   "metadata": {},
   "source": [
    "The isinstance() takes two arguments:\n",
    "    1) object - object to be checked\n",
    "    2) classinfo - class, type, or tuple of classes and types"
   ]
  },
  {
   "cell_type": "code",
   "execution_count": null,
   "metadata": {},
   "outputs": [],
   "source": [
    "a = 5\n",
    "b = 'Python'\n",
    "\n",
    "class Foo:\n",
    "    pass\n",
    "\n",
    "class ChildFoo(Foo):\n",
    "    pass\n",
    "\n",
    "c = Foo()\n",
    "print(isinstance(a, str))\n",
    "print(isinstance(b, (set, tuple, str)))\n",
    "print(isinstance(c, (Foo, set, str)))\n",
    "print(isinstance(ChildFoo, Foo)) # issubclass() should be used here"
   ]
  },
  {
   "cell_type": "markdown",
   "metadata": {},
   "source": [
    "# int(x, base)"
   ]
  },
  {
   "cell_type": "raw",
   "metadata": {},
   "source": [
    "int() returns an integer object from any number or string."
   ]
  },
  {
   "cell_type": "code",
   "execution_count": null,
   "metadata": {},
   "outputs": [],
   "source": [
    "print(int(123.35))\n",
    "print(int('101', 2))\n",
    "print(int('0xb', 16))"
   ]
  },
  {
   "cell_type": "markdown",
   "metadata": {},
   "source": [
    "# issubclass()"
   ]
  },
  {
   "cell_type": "raw",
   "metadata": {},
   "source": [
    "This method is used to check if a class is a subclass of a different class."
   ]
  },
  {
   "cell_type": "code",
   "execution_count": null,
   "metadata": {},
   "outputs": [],
   "source": [
    "class AA:\n",
    "    pass\n",
    "\n",
    "class Aa(AA):\n",
    "    pass\n",
    "\n",
    "class aa(Aa):\n",
    "    pass\n",
    "\n",
    "print(issubclass(Aa, AA))\n",
    "print(issubclass(aa, AA))\n",
    "print(issubclass(AA, AA))"
   ]
  },
  {
   "cell_type": "markdown",
   "metadata": {},
   "source": [
    "# iter()"
   ]
  },
  {
   "cell_type": "raw",
   "metadata": {},
   "source": [
    "The Python iter() function returns an iterator for the given object."
   ]
  },
  {
   "cell_type": "raw",
   "metadata": {},
   "source": [
    "The iter() function takes two parameters:\n",
    "    1) object - object whose iterator has to be created (can be sets, tuples, etc.)\n",
    "    2) sentinel (optional) - special value that is used to represent the end of a sequence"
   ]
  },
  {
   "cell_type": "code",
   "execution_count": null,
   "metadata": {},
   "outputs": [],
   "source": [
    "lst = [1, 2, 3, 5, 6, 7, 8]\n",
    "x = iter(lst)\n",
    "print(set(x))"
   ]
  },
  {
   "cell_type": "markdown",
   "metadata": {},
   "source": [
    "# list()"
   ]
  },
  {
   "cell_type": "raw",
   "metadata": {},
   "source": [
    "The list() constructor returns a list in Python."
   ]
  },
  {
   "cell_type": "code",
   "execution_count": null,
   "metadata": {},
   "outputs": [],
   "source": [
    "list('Python')"
   ]
  },
  {
   "cell_type": "markdown",
   "metadata": {},
   "source": [
    "# locals()"
   ]
  },
  {
   "cell_type": "raw",
   "metadata": {},
   "source": [
    "The locals() method updates and returns a dictionary of the current local symbol table."
   ]
  },
  {
   "cell_type": "code",
   "execution_count": null,
   "metadata": {},
   "outputs": [],
   "source": [
    "locals()"
   ]
  },
  {
   "cell_type": "markdown",
   "metadata": {},
   "source": [
    "# len()"
   ]
  },
  {
   "cell_type": "raw",
   "metadata": {},
   "source": [
    "The len() function returns the number of items (length) in an object."
   ]
  },
  {
   "cell_type": "code",
   "execution_count": null,
   "metadata": {},
   "outputs": [],
   "source": [
    "len('Python')"
   ]
  },
  {
   "cell_type": "markdown",
   "metadata": {},
   "source": [
    "# max()"
   ]
  },
  {
   "cell_type": "raw",
   "metadata": {},
   "source": [
    "The Python max() function returns the largest item in an iterable. \n",
    "\n",
    "It can also be used to find the largest item between two or more parameters."
   ]
  },
  {
   "cell_type": "raw",
   "metadata": {},
   "source": [
    "The max() function has two forms:\n",
    "    #1 to find the largest item in an iterable\n",
    "        max(iterable, *iterables, key, default)\n",
    "    #2 to find the largest item between two or more objects\n",
    "        max(arg1, arg2, *args, key)\n",
    "\n",
    "Key is a function where the iterables are passed and comparison is performed based on its return value.\n",
    "\n",
    "Default is a default value if the given iterable is empty."
   ]
  },
  {
   "cell_type": "code",
   "execution_count": null,
   "metadata": {},
   "outputs": [],
   "source": [
    "lst = {1: 5, 2: 9, 3: 12, 4: 2}\n",
    "\n",
    "print(max(lst))  # We compare keys\n",
    "print(max(lst, key = lambda value: lst[value]))  # We compare keys' values"
   ]
  },
  {
   "cell_type": "markdown",
   "metadata": {},
   "source": [
    "# min()"
   ]
  },
  {
   "cell_type": "raw",
   "metadata": {},
   "source": [
    "The Python min() function returns the smallest item in an iterable. \n",
    "\n",
    "It can also be used to find the smallest item between two or more parameters."
   ]
  },
  {
   "cell_type": "raw",
   "metadata": {},
   "source": [
    "Works the same way as max()."
   ]
  },
  {
   "cell_type": "code",
   "execution_count": null,
   "metadata": {},
   "outputs": [],
   "source": [
    "lst = {1: 5, 2: 9, 3: 12, 4: 2}\n",
    "\n",
    "print(min(lst))  # We compare keys\n",
    "print(min(lst, key = lambda value: lst[value]))  # We compare keys' values"
   ]
  },
  {
   "cell_type": "markdown",
   "metadata": {},
   "source": [
    "# map()"
   ]
  },
  {
   "cell_type": "raw",
   "metadata": {},
   "source": [
    "The map() function applies a given function to each item of an iterable (list, tuple etc.) and returns a list of the results."
   ]
  },
  {
   "cell_type": "code",
   "execution_count": null,
   "metadata": {},
   "outputs": [],
   "source": [
    "def pwr2(n):\n",
    "    return n**n\n",
    "\n",
    "lst = [1, 3, 5, 7, 9]\n",
    "\n",
    "print(list(map(pwr2, lst)))"
   ]
  },
  {
   "cell_type": "markdown",
   "metadata": {},
   "source": [
    "# next()"
   ]
  },
  {
   "cell_type": "raw",
   "metadata": {},
   "source": [
    "The next() function returns the next item from the iterator."
   ]
  },
  {
   "cell_type": "raw",
   "metadata": {},
   "source": [
    "next() Parameters:\n",
    "    1) iterator - next() retrieves next item from the iterator\n",
    "    2) default (optional) - this value is returned if the iterator is exhausted (there is no next item)"
   ]
  },
  {
   "cell_type": "code",
   "execution_count": null,
   "metadata": {},
   "outputs": [],
   "source": [
    "random = [5, 9, 'cat']\n",
    "# converting the list to an iterator\n",
    "random_iterator = iter(random)\n",
    "print(next(random_iterator, 'The end!'))\n",
    "print(next(random_iterator, 'The end!'))\n",
    "print(next(random_iterator, 'The end!'))\n",
    "print(next(random_iterator, 'The end!'))"
   ]
  },
  {
   "cell_type": "markdown",
   "metadata": {},
   "source": [
    "# memoryview()"
   ]
  },
  {
   "cell_type": "raw",
   "metadata": {},
   "source": [
    "The memoryview() function returns a memory view object of the given argument."
   ]
  },
  {
   "cell_type": "raw",
   "metadata": {},
   "source": [
    "The buffer protocol provides a way to access the internal data of an object. This internal data is a memory array or a buffer.\n",
    "\n",
    "The buffer protocol allows one object to expose its internal data (buffers) and the other to access those buffers without intermediate copying.\n",
    "\n",
    "This protocol is only accessible to us at the C-API level and not using our normal codebase.\n",
    "\n",
    "So, in order to expose the same protocol to the normal Python codebase, memory views are present."
   ]
  },
  {
   "cell_type": "raw",
   "metadata": {},
   "source": [
    "A memory view is a safe way to expose the buffer protocol in Python.\n",
    "\n",
    "It allows you to access the internal buffers of an object by creating a memory view object."
   ]
  },
  {
   "cell_type": "raw",
   "metadata": {},
   "source": [
    "We need to remember that whenever we perform some action on an object (call a function of an object, slice an array), Python needs to create a copy of the object.\n",
    "\n",
    "If we have large data to work with (eg. binary data of an image), we would unnecessarily create copies of huge chunks of data, which serves almost no use.\n",
    "\n",
    "Using the buffer protocol, we can give another object access to use/modify the large data without copying it. This makes the program use less memory and increases the execution speed."
   ]
  },
  {
   "cell_type": "code",
   "execution_count": 52,
   "metadata": {},
   "outputs": [
    {
     "name": "stdout",
     "output_type": "stream",
     "text": [
      "[65, 78, 66]\n",
      "bytearray(b'APB')\n"
     ]
    }
   ],
   "source": [
    "rand_str = bytearray('ANB', 'utf-8')\n",
    "\n",
    "mv = memoryview(rand_str)\n",
    "print(list(mv))\n",
    "mv[1] = 80\n",
    "print(rand_str)"
   ]
  },
  {
   "cell_type": "markdown",
   "metadata": {},
   "source": [
    "# object()"
   ]
  },
  {
   "cell_type": "raw",
   "metadata": {},
   "source": [
    "The object() function returns a featureless object which is a base for all classes.\n",
    "\n",
    "Its attributes (properties and methods) are common to instances of all Python classes."
   ]
  },
  {
   "cell_type": "code",
   "execution_count": null,
   "metadata": {},
   "outputs": [],
   "source": [
    "new_object = object()\n",
    "print(dir(new_object))"
   ]
  },
  {
   "cell_type": "markdown",
   "metadata": {},
   "source": [
    "# oct()"
   ]
  },
  {
   "cell_type": "raw",
   "metadata": {},
   "source": [
    "The oct() function takes an integer number and returns its octal representation."
   ]
  },
  {
   "cell_type": "code",
   "execution_count": null,
   "metadata": {},
   "outputs": [],
   "source": [
    "# decimal to octal\n",
    "print('oct(10) is:', oct(10))\n",
    "\n",
    "# binary to octal\n",
    "print('oct(0b101) is:', oct(0b101))\n",
    "\n",
    "# hexadecimal to octal\n",
    "print('oct(0xA) is:', oct(0xA))"
   ]
  },
  {
   "cell_type": "markdown",
   "metadata": {},
   "source": [
    "# ord()"
   ]
  },
  {
   "cell_type": "raw",
   "metadata": {},
   "source": [
    "The ord() function returns an integer representing the Unicode character."
   ]
  },
  {
   "cell_type": "raw",
   "metadata": {},
   "source": [
    "ord() is the inverse of chr()."
   ]
  },
  {
   "cell_type": "code",
   "execution_count": null,
   "metadata": {},
   "outputs": [],
   "source": [
    "print(ord('A'))\n",
    "print(ord('+'))\n",
    "print(ord('!'))"
   ]
  },
  {
   "cell_type": "markdown",
   "metadata": {},
   "source": [
    "# open()"
   ]
  },
  {
   "cell_type": "raw",
   "metadata": {},
   "source": [
    "The open() function opens the file (if possible) and returns the corresponding file object."
   ]
  },
  {
   "cell_type": "raw",
   "metadata": {},
   "source": [
    "open() parameters:\n",
    "1) file - path-like object (representing a file system path)\n",
    "2) mode (optional) - mode while opening a file. If not provided, it defaults to 'r' (open for reading in text mode). Available file modes are:\n",
    "\n",
    "    Mode\tDescription\n",
    "    'r'\tOpen a file for reading. (default)\n",
    "    'w'\tOpen a file for writing. Creates a new file if it does not exist or truncates the file if it exists.\n",
    "    'x'\tOpen a file for exclusive creation. If the file already exists, the operation fails.\n",
    "    'a'\tOpen for appending at the end of the file without truncating it. Creates a new file if it does not exist.\n",
    "    't'\tOpen in text mode. (default)\n",
    "    'b'\tOpen in binary mode.\n",
    "    '+'\tOpen a file for updating (reading and writing)\n",
    "    \n",
    "3) buffering (optional) - used for setting buffering policy\n",
    "4) encoding (optional) - the encoding format\n",
    "5) errors (optional) - string specifying how to handle encoding/decoding errors\n",
    "6) newline (optional) - how newlines mode works (available values: None, ' ', '\\n', 'r', and '\\r\\n'\n",
    "7) closefd (optional) - must be True (default); if given otherwise, an exception will be raised\n",
    "8) opener (optional) - a custom opener; must return an open file descriptor"
   ]
  },
  {
   "cell_type": "markdown",
   "metadata": {},
   "source": [
    "# pow()"
   ]
  },
  {
   "cell_type": "raw",
   "metadata": {},
   "source": [
    "The pow() function returns the power of a number."
   ]
  },
  {
   "cell_type": "raw",
   "metadata": {},
   "source": [
    "The pow() function takes three parameters:\n",
    "    x - a number, the base\n",
    "    y - a number, the exponent\n",
    "    z (optional) - a number, used for modulus"
   ]
  },
  {
   "cell_type": "raw",
   "metadata": {},
   "source": [
    "pow(x, y) is equal to x**y\n",
    "pow(x, y, z) is equal to x**y % z"
   ]
  },
  {
   "cell_type": "raw",
   "metadata": {},
   "source": [
    "It is a really good way to find N last digits of x**y."
   ]
  },
  {
   "cell_type": "code",
   "execution_count": null,
   "metadata": {},
   "outputs": [],
   "source": [
    "print(pow(12,14))\n",
    "print(pow(12,14, 1000))"
   ]
  },
  {
   "cell_type": "markdown",
   "metadata": {},
   "source": [
    "# print()"
   ]
  },
  {
   "cell_type": "raw",
   "metadata": {},
   "source": [
    "The print() function prints the given object to the standard output device (screen) or to the text stream file."
   ]
  },
  {
   "cell_type": "raw",
   "metadata": {},
   "source": [
    "print() parameters:\n",
    "    1) *objects - object to the printed. * indicates that there may be more than one object\n",
    "    2) sep - objects are separated by sep. Default value: ' '\n",
    "    3) end - end is printed at last\n",
    "    4) file - must be an object with write(string) method. If omitted it, sys.stdout will be used which prints objects on the screen.\n",
    "    5) flush - If True, the stream is forcibly flushed. Default value: False\n",
    "\n",
    "Note: sep, end, file and flush are keyword arguments. You can't just ignore them and write only their value."
   ]
  },
  {
   "cell_type": "raw",
   "metadata": {},
   "source": [
    "Flush. Ok, i'll try to explain.\n",
    "\n",
    "When flush == False, print() keeps stdin value in its buffer and prints it only when it meets '\\n' or updated stdin.\n",
    "\n",
    "When flush == True, print() immediately prints stdin value, without waiting for anything else."
   ]
  },
  {
   "cell_type": "raw",
   "metadata": {},
   "source": [
    "For example, we've got a generator like this one below."
   ]
  },
  {
   "cell_type": "code",
   "execution_count": null,
   "metadata": {},
   "outputs": [],
   "source": [
    "import time\n",
    "for i in range(1, 11):\n",
    "    print(i, flush = True)"
   ]
  },
  {
   "cell_type": "raw",
   "metadata": {},
   "source": [
    "When flush == False, print() keeps all those digits in its buffer and prints them after executing the whole For loop.\n",
    "\n",
    "When flush == True, print() prints digits from stdin as soon as it gets them."
   ]
  },
  {
   "cell_type": "markdown",
   "metadata": {},
   "source": [
    "# property()"
   ]
  },
  {
   "cell_type": "raw",
   "metadata": {},
   "source": [
    "The property() construct returns the property attribute. Better use @property."
   ]
  },
  {
   "cell_type": "raw",
   "metadata": {},
   "source": [
    "The property() takes four optional parameters:\n",
    "\n",
    "fget (optional) - Function for getting the attribute value. Defaults to None.\n",
    "fset (optional) - Function for setting the attribute value. Defaults to None.\n",
    "fdel (optional) - Function for deleting the attribute value. Defaults to None.\n",
    "doc (optional) - A string that contains the documentation (docstring) for the attribute. Defaults to None."
   ]
  },
  {
   "cell_type": "code",
   "execution_count": null,
   "metadata": {
    "scrolled": true
   },
   "outputs": [],
   "source": [
    "class Person:\n",
    "    def __init__(self, name):\n",
    "        self._name = name\n",
    "        \n",
    "    def get_name(self):\n",
    "        print('Getting name')\n",
    "        print('Name is', self._name, '\\n')\n",
    "        \n",
    "    def set_name(self, value):\n",
    "        print('Setting name')\n",
    "        self._name = value\n",
    "        print('Now name is', self._name, '\\n')\n",
    "        \n",
    "    def del_name(self):\n",
    "        print('Deleting name')\n",
    "        del self._name\n",
    "        print('Name is deleted')\n",
    "        \n",
    "    name = property(get_name, set_name, del_name)"
   ]
  },
  {
   "cell_type": "code",
   "execution_count": null,
   "metadata": {},
   "outputs": [],
   "source": [
    "p = Person('Adam')\n",
    "p.name\n",
    "p.name = 'John'\n",
    "del p.name"
   ]
  },
  {
   "cell_type": "raw",
   "metadata": {},
   "source": [
    "We can use @property instead of it."
   ]
  },
  {
   "cell_type": "code",
   "execution_count": null,
   "metadata": {},
   "outputs": [],
   "source": [
    "class Person:\n",
    "    def __init__(self, age):\n",
    "        self._age = age\n",
    "    \n",
    "    @property\n",
    "    def age(self):\n",
    "        print('Getting age')\n",
    "        print('Age is', self._age, '\\n')\n",
    "    \n",
    "    @age.setter\n",
    "    def age(self, value):\n",
    "        print('Setting age')\n",
    "        self._age = value\n",
    "        print('Now age is', self._age, '\\n')\n",
    "    \n",
    "    @age.deleter\n",
    "    def age(self):\n",
    "        print('Deleting age')\n",
    "        del self._age\n",
    "        print('Age is deleted')"
   ]
  },
  {
   "cell_type": "code",
   "execution_count": null,
   "metadata": {},
   "outputs": [],
   "source": [
    "p = Person('28')\n",
    "p.age\n",
    "p.age = 30\n",
    "del p.age"
   ]
  },
  {
   "cell_type": "markdown",
   "metadata": {},
   "source": [
    "# range()"
   ]
  },
  {
   "cell_type": "raw",
   "metadata": {},
   "source": [
    "The range() type returns an immutable sequence of numbers between the given start integer to the stop integer."
   ]
  },
  {
   "cell_type": "raw",
   "metadata": {},
   "source": [
    "range(start, stop[, step])\n",
    "\n",
    "Only start is necessary."
   ]
  },
  {
   "cell_type": "code",
   "execution_count": null,
   "metadata": {},
   "outputs": [],
   "source": [
    "print(list(range(1, 101, 2)))"
   ]
  },
  {
   "cell_type": "markdown",
   "metadata": {},
   "source": [
    "# repr()"
   ]
  },
  {
   "cell_type": "raw",
   "metadata": {},
   "source": [
    "The repr() function returns a printable representation of the given object. It is used for debugging purposes."
   ]
  },
  {
   "cell_type": "code",
   "execution_count": null,
   "metadata": {
    "scrolled": true
   },
   "outputs": [],
   "source": [
    "var = 'Python'\n",
    "repr(var)"
   ]
  },
  {
   "cell_type": "raw",
   "metadata": {},
   "source": [
    "The repr() function returns \"'Python'\" inside double-quotes."
   ]
  },
  {
   "cell_type": "raw",
   "metadata": {},
   "source": [
    "When the result from repr() is passed to eval(), we will get the original object."
   ]
  },
  {
   "cell_type": "code",
   "execution_count": null,
   "metadata": {},
   "outputs": [],
   "source": [
    "eval(repr(var))"
   ]
  },
  {
   "cell_type": "markdown",
   "metadata": {},
   "source": [
    "# reversed()"
   ]
  },
  {
   "cell_type": "raw",
   "metadata": {},
   "source": [
    "The reversed() function returns the reversed iterator of the given sequence."
   ]
  },
  {
   "cell_type": "code",
   "execution_count": null,
   "metadata": {},
   "outputs": [],
   "source": [
    "print(list(reversed('Python')))\n",
    "print(list(reversed(range(1, 11))))"
   ]
  },
  {
   "cell_type": "markdown",
   "metadata": {},
   "source": [
    "# round()"
   ]
  },
  {
   "cell_type": "raw",
   "metadata": {},
   "source": [
    "The round() function returns a floating-point number rounded to the specified number of decimals."
   ]
  },
  {
   "cell_type": "raw",
   "metadata": {},
   "source": [
    "The round() function takes two parameters:\n",
    "    1) number - the number to be rounded\n",
    "    2) ndigits (optional) - number up to which the given number is rounded; defaults to 0"
   ]
  },
  {
   "cell_type": "code",
   "execution_count": null,
   "metadata": {},
   "outputs": [],
   "source": [
    "round(23.68934, 2)"
   ]
  },
  {
   "cell_type": "markdown",
   "metadata": {},
   "source": [
    "# set()"
   ]
  },
  {
   "cell_type": "raw",
   "metadata": {},
   "source": [
    "The set() builtin creates a Python set from the given iterable. All elements of set are unique."
   ]
  },
  {
   "cell_type": "code",
   "execution_count": null,
   "metadata": {},
   "outputs": [],
   "source": [
    "set([1, 1, 2, 3, 4, 5, 5, 6, 7, 7, 7, 8])"
   ]
  },
  {
   "cell_type": "markdown",
   "metadata": {},
   "source": [
    "# slice()"
   ]
  },
  {
   "cell_type": "raw",
   "metadata": {},
   "source": [
    "The slice() function returns a slice object that can use used to slice strings, lists, tuple etc."
   ]
  },
  {
   "cell_type": "raw",
   "metadata": {},
   "source": [
    "slice(start, stop, step)\n",
    "\n",
    "Works the same way as index slicing [start:stop:step]"
   ]
  },
  {
   "cell_type": "code",
   "execution_count": null,
   "metadata": {},
   "outputs": [],
   "source": [
    "x = 'Python'\n",
    "y = 'awesome'\n",
    "slicer = slice(0, -1, 2)\n",
    "print(x[slicer], y[slicer])"
   ]
  },
  {
   "cell_type": "markdown",
   "metadata": {},
   "source": [
    "# sorted()"
   ]
  },
  {
   "cell_type": "raw",
   "metadata": {},
   "source": [
    "The sorted() function returns a sorted list from the items in an iterable."
   ]
  },
  {
   "cell_type": "raw",
   "metadata": {},
   "source": [
    "sorted() can take a maximum of three parameters:\n",
    "    1) iterable - A sequence (string, tuple, list) or collection (set, dictionary, frozen set) or any other iterator.\n",
    "    2) reverse (Optional) - If True, the sorted list is reversed (or sorted in descending order). Defaults to False if not provided.\n",
    "    3) key (Optional) - A function that serves as a key for the sort comparison. Defaults to None."
   ]
  },
  {
   "cell_type": "code",
   "execution_count": null,
   "metadata": {},
   "outputs": [],
   "source": [
    "x = ['a', 'asdf', 'asdfg', 'as', 'asdfgh']\n",
    "\n",
    "sorted(x, key=len, reverse=True)"
   ]
  },
  {
   "cell_type": "markdown",
   "metadata": {},
   "source": [
    "# str()"
   ]
  },
  {
   "cell_type": "raw",
   "metadata": {},
   "source": [
    "The str() function returns the string version of the given object."
   ]
  },
  {
   "cell_type": "raw",
   "metadata": {},
   "source": [
    "The str() method takes three parameters:\n",
    "    1) object - The object whose string representation is to be returned. If not provided, returns the empty string\n",
    "    2) encoding - Encoding of the given object. Defaults of UTF-8 when not provided.\n",
    "    3) errors - Response when decoding fails. Defaults to 'strict'."
   ]
  },
  {
   "cell_type": "raw",
   "metadata": {},
   "source": [
    "There are six types of errors:\n",
    "    1) strict - default response which raises a UnicodeDecodeError exception on failure\n",
    "    2) ignore - ignores the unencodable Unicode from the result\n",
    "    3) replace - replaces the unencodable Unicode to a question mark\n",
    "    4) xmlcharrefreplace - inserts XML character reference instead of unencodable Unicode\n",
    "    5) backslashreplace - inserts a \\uNNNN espace sequence instead of unencodable Unicode\n",
    "    6) namereplace - inserts a \\N{...} escape sequence instead of unencodable Unicode"
   ]
  },
  {
   "cell_type": "code",
   "execution_count": null,
   "metadata": {},
   "outputs": [],
   "source": [
    "print(str(5))\n",
    "print(str(5.0))\n",
    "print(str([1, 2, 3]))\n",
    "\n",
    "b = bytes('pythön', encoding='utf-8')\n",
    "\n",
    "print(str(b, encoding='ascii', errors='ignore'))\n",
    "print(str(b, encoding='ascii', errors='replace'))\n",
    "print(str(b, encoding='ascii', errors='backslashreplace'))"
   ]
  },
  {
   "cell_type": "markdown",
   "metadata": {},
   "source": [
    "# sum()"
   ]
  },
  {
   "cell_type": "raw",
   "metadata": {},
   "source": [
    "The sum() function adds the items of an iterable and returns the sum."
   ]
  },
  {
   "cell_type": "raw",
   "metadata": {},
   "source": [
    "sum() parameters:\n",
    "    1) iterable - iterable (list, tuple, dict, etc). The items of the iterable should be numbers.\n",
    "    2) start (optional) - this value is added to the sum of items of the iterable. The default value of start is 0 (if omitted)"
   ]
  },
  {
   "cell_type": "code",
   "execution_count": 3,
   "metadata": {},
   "outputs": [
    {
     "name": "stdout",
     "output_type": "stream",
     "text": [
      "9\n",
      "10\n"
     ]
    }
   ],
   "source": [
    "print(sum([1, 3, 5]))\n",
    "print(sum([1, 3, 5], 1))"
   ]
  },
  {
   "cell_type": "markdown",
   "metadata": {},
   "source": [
    "# tuple()"
   ]
  },
  {
   "cell_type": "raw",
   "metadata": {},
   "source": [
    "The tuple() builtin can be used to create tuples in Python."
   ]
  },
  {
   "cell_type": "raw",
   "metadata": {},
   "source": [
    "In Python, a tuple is an immutable sequence type. One of the ways of creating tuple is by using the tuple() construct."
   ]
  },
  {
   "cell_type": "code",
   "execution_count": 6,
   "metadata": {},
   "outputs": [
    {
     "name": "stdout",
     "output_type": "stream",
     "text": [
      "('P', 'y', 't', 'h', 'o', 'n')\n",
      "(1, 3, 4, 6)\n",
      "(1, 2)\n"
     ]
    }
   ],
   "source": [
    "print(tuple('Python'))\n",
    "print(tuple([1, 3, 4, 6]))\n",
    "print(tuple({1: 'one', 2: 'two'}))"
   ]
  },
  {
   "cell_type": "markdown",
   "metadata": {},
   "source": [
    "# type()"
   ]
  },
  {
   "cell_type": "raw",
   "metadata": {},
   "source": [
    "The type() function either returns the type of the object or returns a new type object based on the arguments passed."
   ]
  },
  {
   "cell_type": "raw",
   "metadata": {},
   "source": [
    "type(object)  # 1"
   ]
  },
  {
   "cell_type": "code",
   "execution_count": 7,
   "metadata": {},
   "outputs": [
    {
     "data": {
      "text/plain": [
       "int"
      ]
     },
     "execution_count": 7,
     "metadata": {},
     "output_type": "execute_result"
    }
   ],
   "source": [
    "type(5)"
   ]
  },
  {
   "cell_type": "raw",
   "metadata": {},
   "source": [
    "type(name, bases, dict)  # 2"
   ]
  },
  {
   "cell_type": "raw",
   "metadata": {},
   "source": [
    "Parameter\tDescription\n",
    "name\t    a class name\n",
    "bases  \t    a tuple of the parent classes (can be empty)\n",
    "dict\t    dictionary containing attributes (can be empty)"
   ]
  },
  {
   "cell_type": "code",
   "execution_count": 18,
   "metadata": {},
   "outputs": [
    {
     "data": {
      "text/plain": [
       "type"
      ]
     },
     "execution_count": 18,
     "metadata": {},
     "output_type": "execute_result"
    }
   ],
   "source": [
    "x = type('A', (str,), {'name': 5})\n",
    "type(x)"
   ]
  },
  {
   "cell_type": "markdown",
   "metadata": {},
   "source": [
    "# vars(object)"
   ]
  },
  {
   "cell_type": "raw",
   "metadata": {},
   "source": [
    "The vars() function returns the __dict__ attribute of the given object."
   ]
  },
  {
   "cell_type": "code",
   "execution_count": 22,
   "metadata": {},
   "outputs": [
    {
     "data": {
      "text/plain": [
       "{'a': 5, 'b': 10}"
      ]
     },
     "execution_count": 22,
     "metadata": {},
     "output_type": "execute_result"
    }
   ],
   "source": [
    "class Foo:\n",
    "    def __init__(self, a = 5, b = 10):\n",
    "        self.a = a\n",
    "        self.b = b\n",
    "\n",
    "x = Foo()\n",
    "vars(x)"
   ]
  },
  {
   "cell_type": "markdown",
   "metadata": {},
   "source": [
    "# zip()"
   ]
  },
  {
   "cell_type": "raw",
   "metadata": {},
   "source": [
    "The zip() function takes iterables (can be zero or more), aggregates them in a tuple, and return it."
   ]
  },
  {
   "cell_type": "raw",
   "metadata": {},
   "source": [
    "zip() stops working at the end of the shortest iterable."
   ]
  },
  {
   "cell_type": "code",
   "execution_count": 31,
   "metadata": {},
   "outputs": [
    {
     "name": "stdout",
     "output_type": "stream",
     "text": [
      "(1, 6, 11) (2, 7, 12) (3, 8, 13) (4, 9, 14) (5, 10, 15) "
     ]
    }
   ],
   "source": [
    "for i in zip(range(1, 6), range(6, 11), range(11, 16)):\n",
    "    print(i, end=' ')"
   ]
  },
  {
   "cell_type": "markdown",
   "metadata": {},
   "source": [
    " # \\__import__()"
   ]
  },
  {
   "cell_type": "raw",
   "metadata": {},
   "source": [
    "The __import__() is a function that is called by the import statement."
   ]
  },
  {
   "cell_type": "raw",
   "metadata": {},
   "source": [
    "__import__() parameters:\n",
    "    1) name - the name of the module you want to import\n",
    "    2) globals and locals - determines how to interpret name\n",
    "    3) fromlist - objects or submodules that should be imported by name\n",
    "    4) level - specifies whether to use absolute or relative imports"
   ]
  },
  {
   "cell_type": "raw",
   "metadata": {},
   "source": [
    "This __import__() function is not necessary for everyday Python program. It is rarely used and often discouraged.\n",
    "\n",
    "This function can be used to change the semantics of the import statement as the statement calls this function."
   ]
  },
  {
   "cell_type": "code",
   "execution_count": 32,
   "metadata": {},
   "outputs": [
    {
     "name": "stdout",
     "output_type": "stream",
     "text": [
      "2.5\n"
     ]
    }
   ],
   "source": [
    "mathematics = __import__('math', globals(), locals(), [], 0)\n",
    "\n",
    "print(mathematics.fabs(-2.5))"
   ]
  },
  {
   "cell_type": "markdown",
   "metadata": {},
   "source": [
    "# super()"
   ]
  },
  {
   "cell_type": "raw",
   "metadata": {
    "pycharm": {
     "is_executing": false
    }
   },
   "source": [
    "The super() builtin returns a proxy object (temporary object of the superclass) that allows us to access methods of the base class."
   ]
  },
  {
   "cell_type": "raw",
   "metadata": {},
   "source": [
    "In Python, super() has two major use cases:\n",
    "    1) Allows us to avoid using the base class name explicitly\n",
    "    2) Working with Multiple Inheritance"
   ]
  },
  {
   "cell_type": "code",
   "execution_count": 33,
   "metadata": {},
   "outputs": [],
   "source": [
    "class Rectangle:\n",
    "    def __init__(self, length, width):\n",
    "        self.length = length\n",
    "        self.width = width\n",
    "\n",
    "    def area(self):\n",
    "        return self.length * self.width\n",
    "\n",
    "# Here we declare that the Square class inherits from the Rectangle class\n",
    "class Square(Rectangle):\n",
    "    def __init__(self, length):\n",
    "        super().__init__(length, length)"
   ]
  },
  {
   "cell_type": "code",
   "execution_count": 35,
   "metadata": {},
   "outputs": [
    {
     "data": {
      "text/plain": [
       "9"
      ]
     },
     "execution_count": 35,
     "metadata": {},
     "output_type": "execute_result"
    }
   ],
   "source": [
    "sqr = Square(3)\n",
    "sqr.area()"
   ]
  }
 ],
 "metadata": {
  "kernelspec": {
   "display_name": "Python 3",
   "language": "python",
   "name": "python3"
  },
  "language_info": {
   "codemirror_mode": {
    "name": "ipython",
    "version": 3
   },
   "file_extension": ".py",
   "mimetype": "text/x-python",
   "name": "python",
   "nbconvert_exporter": "python",
   "pygments_lexer": "ipython3",
   "version": "3.7.7"
  },
  "pycharm": {
   "stem_cell": {
    "cell_type": "raw",
    "metadata": {
     "collapsed": false
    },
    "source": []
   }
  }
 },
 "nbformat": 4,
 "nbformat_minor": 4
}
